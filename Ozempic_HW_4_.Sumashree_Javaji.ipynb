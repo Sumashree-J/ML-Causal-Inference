{
 "cells": [
  {
   "cell_type": "markdown",
   "id": "41817ca0-e4c0-48d9-8904-db9a19bb79a0",
   "metadata": {},
   "source": [
    "### **4. Ozempic**\n",
    "- **Author**  : Sumashree Javaji\n",
    "- **Datasets** :\n",
    "    - medical_sample.csv - This dataset encapsulates the medical claims for services rendered to the specified patient group.\n",
    "    - scripts_sample.csv - detailing the prescriptions dispensed to a fraction of the patients in the medical claims dataset\n",
    "- **Dataset Description** : Prescription & patient journey\n",
    "- **Problem Statement** : The goal is to Understand the Impact of Ozempic on Obese and Hypertensive Patients"
   ]
  },
  {
   "cell_type": "markdown",
   "id": "6b371abb-5a0c-4c34-a832-7401e1534fbc",
   "metadata": {},
   "source": [
    "#### **Data Exploration and Visualization**\n",
    "- understanding the structure, identifying missing values, and summarizing key statistics\n",
    "- Generate visualizations to understand the distribution of important variables, relationships\n",
    "between different variables, and any other patterns or anomalies in the data such as peculiar\n",
    "patterns or outliers"
   ]
  },
  {
   "cell_type": "markdown",
   "id": "0327d0b7-c0f6-4f75-984d-e5e66f02e8c4",
   "metadata": {},
   "source": [
    "#### Importing necessary libraries "
   ]
  },
  {
   "cell_type": "code",
   "execution_count": 1,
   "id": "e6d59433-bec4-4c36-bed6-c1c4f0e6e52a",
   "metadata": {},
   "outputs": [],
   "source": [
    "### for data\n",
    "import pandas as pd\n",
    "import numpy as np\n",
    "\n",
    "## for plotting\n",
    "import matplotlib.pyplot as plt\n",
    "import seaborn as sns\n",
    "\n",
    "## for statistical tests\n",
    "import scipy\n",
    "import statsmodels.formula.api as smf\n",
    "import statsmodels.api as sm\n",
    "\n",
    "## for machine learning\n",
    "from sklearn import model_selection, preprocessing, feature_selection, ensemble, linear_model, metrics, decomposition"
   ]
  },
  {
   "cell_type": "markdown",
   "id": "cc8b4ec7-c6c2-4c81-863c-1a167e0e3e5c",
   "metadata": {},
   "source": [
    "#### Importing os library to change my current working directory to a new folder created for homework 3"
   ]
  },
  {
   "cell_type": "code",
   "execution_count": 2,
   "id": "c5d001cd-63f9-4adc-ad38-af03c02045d4",
   "metadata": {},
   "outputs": [
    {
     "name": "stderr",
     "output_type": "stream",
     "text": [
      "/var/folders/3_/cs0bsxl53jj55bb_mt8gmp040000gn/T/ipykernel_5927/2728075797.py:7: DtypeWarning: Columns (9,10,29,43) have mixed types. Specify dtype option on import or set low_memory=False.\n",
      "  scripts_raw = pd.read_csv(\"longyear-obese-hypertensive-40-75-scripts-SMALL-sample.csv\")\n"
     ]
    },
    {
     "data": {
      "text/html": [
       "<div>\n",
       "<style scoped>\n",
       "    .dataframe tbody tr th:only-of-type {\n",
       "        vertical-align: middle;\n",
       "    }\n",
       "\n",
       "    .dataframe tbody tr th {\n",
       "        vertical-align: top;\n",
       "    }\n",
       "\n",
       "    .dataframe thead th {\n",
       "        text-align: right;\n",
       "    }\n",
       "</style>\n",
       "<table border=\"1\" class=\"dataframe\">\n",
       "  <thead>\n",
       "    <tr style=\"text-align: right;\">\n",
       "      <th></th>\n",
       "      <th>journey_id</th>\n",
       "      <th>episode_id</th>\n",
       "      <th>visit_id</th>\n",
       "      <th>encounter_id</th>\n",
       "      <th>claim_date</th>\n",
       "      <th>patient_state</th>\n",
       "      <th>patient_short_zip</th>\n",
       "      <th>patient_age</th>\n",
       "      <th>patient_gender</th>\n",
       "      <th>place_of_service</th>\n",
       "      <th>...</th>\n",
       "      <th>diag_4</th>\n",
       "      <th>diag_5</th>\n",
       "      <th>rev_center_code</th>\n",
       "      <th>rev_center_units</th>\n",
       "      <th>proc_code</th>\n",
       "      <th>proc_modifier</th>\n",
       "      <th>proc_units</th>\n",
       "      <th>line_charge</th>\n",
       "      <th>claim_charge</th>\n",
       "      <th>smart_allowed</th>\n",
       "    </tr>\n",
       "  </thead>\n",
       "  <tbody>\n",
       "    <tr>\n",
       "      <th>0</th>\n",
       "      <td>00006390c96ebfffed580074c35a16a7</td>\n",
       "      <td>d5e15811af1d772f54af52f3560be0a5</td>\n",
       "      <td>f22b7ab885c44afae5449d74f8498f53aea1b2cfa79598...</td>\n",
       "      <td>d5a7dc61071d977cef9ff762973d360f4bcf15a19790d9...</td>\n",
       "      <td>2020-07-13</td>\n",
       "      <td>CA</td>\n",
       "      <td>922.0</td>\n",
       "      <td>55.0</td>\n",
       "      <td>M</td>\n",
       "      <td>Home</td>\n",
       "      <td>...</td>\n",
       "      <td>NaN</td>\n",
       "      <td>NaN</td>\n",
       "      <td>NaN</td>\n",
       "      <td>1.0</td>\n",
       "      <td>A6549</td>\n",
       "      <td>NU</td>\n",
       "      <td>2.0</td>\n",
       "      <td>300.00</td>\n",
       "      <td>300.00</td>\n",
       "      <td>974.13</td>\n",
       "    </tr>\n",
       "    <tr>\n",
       "      <th>1</th>\n",
       "      <td>00006390c96ebfffed580074c35a16a7</td>\n",
       "      <td>d5e15811af1d772f54af52f3560be0a5</td>\n",
       "      <td>f22b7ab885c44afae5449d74f8498f53aea1b2cfa79598...</td>\n",
       "      <td>d5a7dc61071d977cef9ff762973d360f4bcf15a19790d9...</td>\n",
       "      <td>2020-07-13</td>\n",
       "      <td>CA</td>\n",
       "      <td>922.0</td>\n",
       "      <td>55.0</td>\n",
       "      <td>M</td>\n",
       "      <td>Home</td>\n",
       "      <td>...</td>\n",
       "      <td>NaN</td>\n",
       "      <td>NaN</td>\n",
       "      <td>NaN</td>\n",
       "      <td>1.0</td>\n",
       "      <td>A6549</td>\n",
       "      <td>NU</td>\n",
       "      <td>2.0</td>\n",
       "      <td>300.00</td>\n",
       "      <td>300.00</td>\n",
       "      <td>974.13</td>\n",
       "    </tr>\n",
       "    <tr>\n",
       "      <th>2</th>\n",
       "      <td>00006390c96ebfffed580074c35a16a7</td>\n",
       "      <td>e25e5285e4f66d35c9840bf4e040fe73</td>\n",
       "      <td>3f45ba8ebef02b0c09b09e864e57ba5ee9d6bc9acf1c39...</td>\n",
       "      <td>c60da949b58f0351c8781c062f65d92bce76d9532d1632...</td>\n",
       "      <td>2023-07-19</td>\n",
       "      <td>CA</td>\n",
       "      <td>922.0</td>\n",
       "      <td>60.0</td>\n",
       "      <td>M</td>\n",
       "      <td>Office</td>\n",
       "      <td>...</td>\n",
       "      <td>L03115</td>\n",
       "      <td>L03116</td>\n",
       "      <td>NaN</td>\n",
       "      <td>1.0</td>\n",
       "      <td>3074F</td>\n",
       "      <td>NaN</td>\n",
       "      <td>1.0</td>\n",
       "      <td>0.00</td>\n",
       "      <td>0.00</td>\n",
       "      <td>46.57</td>\n",
       "    </tr>\n",
       "    <tr>\n",
       "      <th>3</th>\n",
       "      <td>00006390c96ebfffed580074c35a16a7</td>\n",
       "      <td>e25e5285e4f66d35c9840bf4e040fe73</td>\n",
       "      <td>3f45ba8ebef02b0c09b09e864e57ba5ee9d6bc9acf1c39...</td>\n",
       "      <td>c60da949b58f0351c8781c062f65d92bce76d9532d1632...</td>\n",
       "      <td>2023-07-19</td>\n",
       "      <td>CA</td>\n",
       "      <td>922.0</td>\n",
       "      <td>60.0</td>\n",
       "      <td>M</td>\n",
       "      <td>Office</td>\n",
       "      <td>...</td>\n",
       "      <td>L03115</td>\n",
       "      <td>L03116</td>\n",
       "      <td>NaN</td>\n",
       "      <td>1.0</td>\n",
       "      <td>3078F</td>\n",
       "      <td>NaN</td>\n",
       "      <td>1.0</td>\n",
       "      <td>0.00</td>\n",
       "      <td>0.00</td>\n",
       "      <td>56.38</td>\n",
       "    </tr>\n",
       "    <tr>\n",
       "      <th>4</th>\n",
       "      <td>00006d564a4718c744f1bbf1b6c5f8c3</td>\n",
       "      <td>42ba4419d9ad7c9293d76686fb608f10</td>\n",
       "      <td>9e4534892128401c693a6ab2ea758cd6a0a6484972168b...</td>\n",
       "      <td>da5cef18317c14180ed561a84001d8a033d724d541a2c0...</td>\n",
       "      <td>2023-08-11</td>\n",
       "      <td>CA</td>\n",
       "      <td>900.0</td>\n",
       "      <td>55.0</td>\n",
       "      <td>F</td>\n",
       "      <td>Independent Laboratory</td>\n",
       "      <td>...</td>\n",
       "      <td>NaN</td>\n",
       "      <td>NaN</td>\n",
       "      <td>NaN</td>\n",
       "      <td>1.0</td>\n",
       "      <td>80053</td>\n",
       "      <td>NaN</td>\n",
       "      <td>1.0</td>\n",
       "      <td>88.07</td>\n",
       "      <td>88.07</td>\n",
       "      <td>15.16</td>\n",
       "    </tr>\n",
       "  </tbody>\n",
       "</table>\n",
       "<p>5 rows × 34 columns</p>\n",
       "</div>"
      ],
      "text/plain": [
       "                         journey_id                        episode_id  \\\n",
       "0  00006390c96ebfffed580074c35a16a7  d5e15811af1d772f54af52f3560be0a5   \n",
       "1  00006390c96ebfffed580074c35a16a7  d5e15811af1d772f54af52f3560be0a5   \n",
       "2  00006390c96ebfffed580074c35a16a7  e25e5285e4f66d35c9840bf4e040fe73   \n",
       "3  00006390c96ebfffed580074c35a16a7  e25e5285e4f66d35c9840bf4e040fe73   \n",
       "4  00006d564a4718c744f1bbf1b6c5f8c3  42ba4419d9ad7c9293d76686fb608f10   \n",
       "\n",
       "                                            visit_id  \\\n",
       "0  f22b7ab885c44afae5449d74f8498f53aea1b2cfa79598...   \n",
       "1  f22b7ab885c44afae5449d74f8498f53aea1b2cfa79598...   \n",
       "2  3f45ba8ebef02b0c09b09e864e57ba5ee9d6bc9acf1c39...   \n",
       "3  3f45ba8ebef02b0c09b09e864e57ba5ee9d6bc9acf1c39...   \n",
       "4  9e4534892128401c693a6ab2ea758cd6a0a6484972168b...   \n",
       "\n",
       "                                        encounter_id  claim_date  \\\n",
       "0  d5a7dc61071d977cef9ff762973d360f4bcf15a19790d9...  2020-07-13   \n",
       "1  d5a7dc61071d977cef9ff762973d360f4bcf15a19790d9...  2020-07-13   \n",
       "2  c60da949b58f0351c8781c062f65d92bce76d9532d1632...  2023-07-19   \n",
       "3  c60da949b58f0351c8781c062f65d92bce76d9532d1632...  2023-07-19   \n",
       "4  da5cef18317c14180ed561a84001d8a033d724d541a2c0...  2023-08-11   \n",
       "\n",
       "  patient_state  patient_short_zip  patient_age patient_gender  \\\n",
       "0            CA              922.0         55.0              M   \n",
       "1            CA              922.0         55.0              M   \n",
       "2            CA              922.0         60.0              M   \n",
       "3            CA              922.0         60.0              M   \n",
       "4            CA              900.0         55.0              F   \n",
       "\n",
       "         place_of_service  ...  diag_4  diag_5 rev_center_code  \\\n",
       "0                    Home  ...     NaN     NaN             NaN   \n",
       "1                    Home  ...     NaN     NaN             NaN   \n",
       "2                  Office  ...  L03115  L03116             NaN   \n",
       "3                  Office  ...  L03115  L03116             NaN   \n",
       "4  Independent Laboratory  ...     NaN     NaN             NaN   \n",
       "\n",
       "   rev_center_units  proc_code proc_modifier proc_units  line_charge  \\\n",
       "0               1.0      A6549            NU        2.0       300.00   \n",
       "1               1.0      A6549            NU        2.0       300.00   \n",
       "2               1.0      3074F           NaN        1.0         0.00   \n",
       "3               1.0      3078F           NaN        1.0         0.00   \n",
       "4               1.0      80053           NaN        1.0        88.07   \n",
       "\n",
       "  claim_charge smart_allowed  \n",
       "0       300.00        974.13  \n",
       "1       300.00        974.13  \n",
       "2         0.00         46.57  \n",
       "3         0.00         56.38  \n",
       "4        88.07         15.16  \n",
       "\n",
       "[5 rows x 34 columns]"
      ]
     },
     "execution_count": 2,
     "metadata": {},
     "output_type": "execute_result"
    }
   ],
   "source": [
    "# Importing os library to change my current working directory to a new folder created for homework 2\n",
    "import os\n",
    "os.chdir('/Users/sumashreejavaji/PycharmProjects/BAX_452_Machine Learning/HW_4') # setting cwd to a new path\n",
    "os.getcwd() # checking my environment's current working directory\n",
    "\n",
    "# Loading the data\n",
    "scripts_raw = pd.read_csv(\"longyear-obese-hypertensive-40-75-scripts-SMALL-sample.csv\")\n",
    "medical_raw = pd.read_csv(\"longyear-obese-hypertensive-40-57-medical-SMALL-sample.csv\")\n",
    "\n",
    "medical_raw.head()"
   ]
  },
  {
   "cell_type": "code",
   "execution_count": 3,
   "id": "1e7ac707-820e-499a-8fe8-b1d0bd28f72a",
   "metadata": {},
   "outputs": [
    {
     "data": {
      "text/html": [
       "<div>\n",
       "<style scoped>\n",
       "    .dataframe tbody tr th:only-of-type {\n",
       "        vertical-align: middle;\n",
       "    }\n",
       "\n",
       "    .dataframe tbody tr th {\n",
       "        vertical-align: top;\n",
       "    }\n",
       "\n",
       "    .dataframe thead th {\n",
       "        text-align: right;\n",
       "    }\n",
       "</style>\n",
       "<table border=\"1\" class=\"dataframe\">\n",
       "  <thead>\n",
       "    <tr style=\"text-align: right;\">\n",
       "      <th></th>\n",
       "      <th>journey_id</th>\n",
       "      <th>cohort_id</th>\n",
       "      <th>claim_id</th>\n",
       "      <th>patient_gender</th>\n",
       "      <th>patient_state</th>\n",
       "      <th>patient_zip</th>\n",
       "      <th>patient_dob</th>\n",
       "      <th>pharmacy_npi</th>\n",
       "      <th>pharmacist_npi</th>\n",
       "      <th>prescriber_npi</th>\n",
       "      <th>...</th>\n",
       "      <th>bin</th>\n",
       "      <th>plan_pay</th>\n",
       "      <th>reject_code_1</th>\n",
       "      <th>reject_code_3</th>\n",
       "      <th>reject_code_4</th>\n",
       "      <th>reject_code_5</th>\n",
       "      <th>ndc</th>\n",
       "      <th>active</th>\n",
       "      <th>start_date</th>\n",
       "      <th>end_date</th>\n",
       "    </tr>\n",
       "  </thead>\n",
       "  <tbody>\n",
       "    <tr>\n",
       "      <th>0</th>\n",
       "      <td>00006390c96ebfffed580074c35a16a7</td>\n",
       "      <td>16</td>\n",
       "      <td>60618bd8d37311da702bf9349e76f8c26d515c082e136f...</td>\n",
       "      <td>M</td>\n",
       "      <td>CA</td>\n",
       "      <td>922.0</td>\n",
       "      <td>1961-01-01</td>\n",
       "      <td>1.215361e+09</td>\n",
       "      <td>NaN</td>\n",
       "      <td>1750479168</td>\n",
       "      <td>...</td>\n",
       "      <td>22659.0</td>\n",
       "      <td>NaN</td>\n",
       "      <td>NaN</td>\n",
       "      <td>NaN</td>\n",
       "      <td>NaN</td>\n",
       "      <td>NaN</td>\n",
       "      <td>47335067381</td>\n",
       "      <td>True</td>\n",
       "      <td>190001</td>\n",
       "      <td>NaN</td>\n",
       "    </tr>\n",
       "    <tr>\n",
       "      <th>1</th>\n",
       "      <td>00006390c96ebfffed580074c35a16a7</td>\n",
       "      <td>16</td>\n",
       "      <td>dbeb47defd161331e43f4e359e8d43e4ef7546ff58359b...</td>\n",
       "      <td>M</td>\n",
       "      <td>CA</td>\n",
       "      <td>922.0</td>\n",
       "      <td>1961-01-01</td>\n",
       "      <td>1.215361e+09</td>\n",
       "      <td>NaN</td>\n",
       "      <td>1750479168</td>\n",
       "      <td>...</td>\n",
       "      <td>22659.0</td>\n",
       "      <td>NaN</td>\n",
       "      <td>NaN</td>\n",
       "      <td>NaN</td>\n",
       "      <td>NaN</td>\n",
       "      <td>NaN</td>\n",
       "      <td>47335067381</td>\n",
       "      <td>True</td>\n",
       "      <td>190001</td>\n",
       "      <td>NaN</td>\n",
       "    </tr>\n",
       "    <tr>\n",
       "      <th>2</th>\n",
       "      <td>00006390c96ebfffed580074c35a16a7</td>\n",
       "      <td>16</td>\n",
       "      <td>02927d081fad10afffcba79bad27f94ff52c98e968aaec...</td>\n",
       "      <td>M</td>\n",
       "      <td>CA</td>\n",
       "      <td>922.0</td>\n",
       "      <td>1961-01-01</td>\n",
       "      <td>1.215361e+09</td>\n",
       "      <td>NaN</td>\n",
       "      <td>1750479168</td>\n",
       "      <td>...</td>\n",
       "      <td>22659.0</td>\n",
       "      <td>NaN</td>\n",
       "      <td>NaN</td>\n",
       "      <td>NaN</td>\n",
       "      <td>NaN</td>\n",
       "      <td>NaN</td>\n",
       "      <td>47335067381</td>\n",
       "      <td>True</td>\n",
       "      <td>190001</td>\n",
       "      <td>NaN</td>\n",
       "    </tr>\n",
       "    <tr>\n",
       "      <th>3</th>\n",
       "      <td>00006390c96ebfffed580074c35a16a7</td>\n",
       "      <td>16</td>\n",
       "      <td>a412c986e2503a5140ed1482e88b5ec50feeedaf2d89ec...</td>\n",
       "      <td>M</td>\n",
       "      <td>CA</td>\n",
       "      <td>922.0</td>\n",
       "      <td>1961-01-01</td>\n",
       "      <td>1.215361e+09</td>\n",
       "      <td>NaN</td>\n",
       "      <td>1750479168</td>\n",
       "      <td>...</td>\n",
       "      <td>22659.0</td>\n",
       "      <td>NaN</td>\n",
       "      <td>NaN</td>\n",
       "      <td>NaN</td>\n",
       "      <td>NaN</td>\n",
       "      <td>NaN</td>\n",
       "      <td>47335067381</td>\n",
       "      <td>True</td>\n",
       "      <td>190001</td>\n",
       "      <td>NaN</td>\n",
       "    </tr>\n",
       "    <tr>\n",
       "      <th>4</th>\n",
       "      <td>00006390c96ebfffed580074c35a16a7</td>\n",
       "      <td>16</td>\n",
       "      <td>b65634edd78998753fe9606b142b2fff7765d6c576973c...</td>\n",
       "      <td>M</td>\n",
       "      <td>CA</td>\n",
       "      <td>922.0</td>\n",
       "      <td>1961-01-01</td>\n",
       "      <td>1.215361e+09</td>\n",
       "      <td>NaN</td>\n",
       "      <td>1750479168</td>\n",
       "      <td>...</td>\n",
       "      <td>22659.0</td>\n",
       "      <td>NaN</td>\n",
       "      <td>NaN</td>\n",
       "      <td>NaN</td>\n",
       "      <td>NaN</td>\n",
       "      <td>NaN</td>\n",
       "      <td>65862059805</td>\n",
       "      <td>True</td>\n",
       "      <td>190001</td>\n",
       "      <td>NaN</td>\n",
       "    </tr>\n",
       "  </tbody>\n",
       "</table>\n",
       "<p>5 rows × 48 columns</p>\n",
       "</div>"
      ],
      "text/plain": [
       "                         journey_id  cohort_id  \\\n",
       "0  00006390c96ebfffed580074c35a16a7         16   \n",
       "1  00006390c96ebfffed580074c35a16a7         16   \n",
       "2  00006390c96ebfffed580074c35a16a7         16   \n",
       "3  00006390c96ebfffed580074c35a16a7         16   \n",
       "4  00006390c96ebfffed580074c35a16a7         16   \n",
       "\n",
       "                                            claim_id patient_gender  \\\n",
       "0  60618bd8d37311da702bf9349e76f8c26d515c082e136f...              M   \n",
       "1  dbeb47defd161331e43f4e359e8d43e4ef7546ff58359b...              M   \n",
       "2  02927d081fad10afffcba79bad27f94ff52c98e968aaec...              M   \n",
       "3  a412c986e2503a5140ed1482e88b5ec50feeedaf2d89ec...              M   \n",
       "4  b65634edd78998753fe9606b142b2fff7765d6c576973c...              M   \n",
       "\n",
       "  patient_state  patient_zip patient_dob  pharmacy_npi  pharmacist_npi  \\\n",
       "0            CA        922.0  1961-01-01  1.215361e+09             NaN   \n",
       "1            CA        922.0  1961-01-01  1.215361e+09             NaN   \n",
       "2            CA        922.0  1961-01-01  1.215361e+09             NaN   \n",
       "3            CA        922.0  1961-01-01  1.215361e+09             NaN   \n",
       "4            CA        922.0  1961-01-01  1.215361e+09             NaN   \n",
       "\n",
       "  prescriber_npi  ...      bin plan_pay reject_code_1 reject_code_3  \\\n",
       "0     1750479168  ...  22659.0      NaN           NaN           NaN   \n",
       "1     1750479168  ...  22659.0      NaN           NaN           NaN   \n",
       "2     1750479168  ...  22659.0      NaN           NaN           NaN   \n",
       "3     1750479168  ...  22659.0      NaN           NaN           NaN   \n",
       "4     1750479168  ...  22659.0      NaN           NaN           NaN   \n",
       "\n",
       "  reject_code_4 reject_code_5          ndc  active  start_date end_date  \n",
       "0           NaN           NaN  47335067381    True      190001      NaN  \n",
       "1           NaN           NaN  47335067381    True      190001      NaN  \n",
       "2           NaN           NaN  47335067381    True      190001      NaN  \n",
       "3           NaN           NaN  47335067381    True      190001      NaN  \n",
       "4           NaN           NaN  65862059805    True      190001      NaN  \n",
       "\n",
       "[5 rows x 48 columns]"
      ]
     },
     "execution_count": 3,
     "metadata": {},
     "output_type": "execute_result"
    }
   ],
   "source": [
    "scripts_raw.head()"
   ]
  },
  {
   "cell_type": "code",
   "execution_count": 4,
   "id": "601c485d-aa0e-4c9a-bf7f-c233bff8d936",
   "metadata": {},
   "outputs": [
    {
     "data": {
      "text/plain": [
       "(623525, 34)"
      ]
     },
     "execution_count": 4,
     "metadata": {},
     "output_type": "execute_result"
    }
   ],
   "source": [
    "medical_raw.shape"
   ]
  },
  {
   "cell_type": "code",
   "execution_count": 5,
   "id": "45e4c8ee-8c31-4332-aee2-1422eab9e144",
   "metadata": {
    "scrolled": true
   },
   "outputs": [
    {
     "name": "stdout",
     "output_type": "stream",
     "text": [
      "                         journey_id                        episode_id  \\\n",
      "0  00006390c96ebfffed580074c35a16a7  d5e15811af1d772f54af52f3560be0a5   \n",
      "1  00006390c96ebfffed580074c35a16a7  d5e15811af1d772f54af52f3560be0a5   \n",
      "2  00006390c96ebfffed580074c35a16a7  e25e5285e4f66d35c9840bf4e040fe73   \n",
      "3  00006390c96ebfffed580074c35a16a7  e25e5285e4f66d35c9840bf4e040fe73   \n",
      "\n",
      "                                            visit_id  \\\n",
      "0  f22b7ab885c44afae5449d74f8498f53aea1b2cfa79598...   \n",
      "1  f22b7ab885c44afae5449d74f8498f53aea1b2cfa79598...   \n",
      "2  3f45ba8ebef02b0c09b09e864e57ba5ee9d6bc9acf1c39...   \n",
      "3  3f45ba8ebef02b0c09b09e864e57ba5ee9d6bc9acf1c39...   \n",
      "\n",
      "                                        encounter_id  claim_date  \\\n",
      "0  d5a7dc61071d977cef9ff762973d360f4bcf15a19790d9...  2020-07-13   \n",
      "1  d5a7dc61071d977cef9ff762973d360f4bcf15a19790d9...  2020-07-13   \n",
      "2  c60da949b58f0351c8781c062f65d92bce76d9532d1632...  2023-07-19   \n",
      "3  c60da949b58f0351c8781c062f65d92bce76d9532d1632...  2023-07-19   \n",
      "\n",
      "  patient_state  patient_short_zip  patient_age patient_gender  \\\n",
      "0            CA              922.0         55.0              M   \n",
      "1            CA              922.0         55.0              M   \n",
      "2            CA              922.0         60.0              M   \n",
      "3            CA              922.0         60.0              M   \n",
      "\n",
      "  place_of_service  ...  diag_4  diag_5 rev_center_code  rev_center_units  \\\n",
      "0             Home  ...    None    None            None               1.0   \n",
      "1             Home  ...    None    None            None               1.0   \n",
      "2           Office  ...  L03115  L03116            None               1.0   \n",
      "3           Office  ...  L03115  L03116            None               1.0   \n",
      "\n",
      "   proc_code proc_modifier proc_units  line_charge claim_charge smart_allowed  \n",
      "0      A6549            NU        2.0        300.0        300.0        974.13  \n",
      "1      A6549            NU        2.0        300.0        300.0        974.13  \n",
      "2      3074F          None        1.0          0.0          0.0         46.57  \n",
      "3      3078F          None        1.0          0.0          0.0         56.38  \n",
      "\n",
      "[4 rows x 34 columns]\n"
     ]
    }
   ],
   "source": [
    "# !pip install pandasql\n",
    "from pandasql import sqldf\n",
    "\n",
    "query = \"\"\"\n",
    "SELECT *\n",
    "FROM medical_raw\n",
    "WHERE journey_id = '00006390c96ebfffed580074c35a16a7'\n",
    "\"\"\"\n",
    "\n",
    "print(sqldf(query))\n",
    "\n",
    "# !pip install openpyxl\n",
    "import openpyxl\n",
    "sqldf(query).to_excel('data_analysis.xlsx', index=False)\n",
    "\n",
    "# upon analysis the results of the above sample query, I've found that the data has duplicate records."
   ]
  },
  {
   "cell_type": "code",
   "execution_count": 6,
   "id": "b67f9d0d-7f91-4625-b945-6a23bdd50735",
   "metadata": {},
   "outputs": [
    {
     "name": "stdout",
     "output_type": "stream",
     "text": [
      "Number of dropped rows: 60323\n",
      "Percentage of dropped rows: 9.67% \n",
      "\n",
      "Number of dropped rows: 1233\n",
      "Percentage of dropped rows: 0.14%\n"
     ]
    }
   ],
   "source": [
    "# Medical Dataset \n",
    "medical_df = medical_raw.copy()\n",
    "medical_df.drop_duplicates(inplace=True)\n",
    "\n",
    "# Calculate the number of dropped rows\n",
    "num_dropped = len(medical_raw) - len(medical_df)\n",
    "print(f'Number of dropped rows: {num_dropped}')\n",
    "print(f'Percentage of dropped rows: {round((num_dropped/len(medical_raw))*100,2)}% \\n')\n",
    "\n",
    "# Scripts Dataset \n",
    "scripts_df = scripts_raw.copy()\n",
    "scripts_df.drop_duplicates(inplace=True)\n",
    "\n",
    "# Calculate the number of dropped rows\n",
    "n_dropped = len(scripts_raw) - len(scripts_df)\n",
    "print(f'Number of dropped rows: {n_dropped}')\n",
    "print(f'Percentage of dropped rows: {round((n_dropped/len(scripts_raw))*100,2)}%')"
   ]
  },
  {
   "cell_type": "markdown",
   "id": "3afe270c-7a1e-4200-84f8-9d2d788ad84b",
   "metadata": {},
   "source": [
    "#### Level of Dataset \n",
    "- check the level of informain in the Dataset \n",
    "- Medical : journey_id ,  encounter_id , proc_code , proc_modifier  , rev_center_code"
   ]
  },
  {
   "cell_type": "code",
   "execution_count": 7,
   "id": "a6dfee08-2cd1-427c-8484-fd71443e88d9",
   "metadata": {},
   "outputs": [
    {
     "data": {
      "text/plain": [
       "(563202, 34)"
      ]
     },
     "execution_count": 7,
     "metadata": {},
     "output_type": "execute_result"
    }
   ],
   "source": [
    "medical_df_lvl = medical_df.copy()\n",
    "medical_df_lvl.drop_duplicates(inplace=True)\n",
    "# medical_df_lvl.columns\n",
    "medical_df_lvl.shape"
   ]
  },
  {
   "cell_type": "code",
   "execution_count": 8,
   "id": "b3815ae9-852d-4272-8179-12abfbc68c55",
   "metadata": {
    "scrolled": true
   },
   "outputs": [
    {
     "name": "stdout",
     "output_type": "stream",
     "text": [
      "Empty DataFrame\n",
      "Columns: [journey_id, encounter_id, proc_code, proc_modifier, rev_center_code, cnt]\n",
      "Index: []\n"
     ]
    }
   ],
   "source": [
    "# !pip install pandasql\n",
    "from pandasql import sqldf\n",
    "\n",
    "query = \"\"\"\n",
    "SELECT journey_id ,  encounter_id , proc_code , proc_modifier  , rev_center_code ,count(*) cnt\n",
    "FROM medical_df_lvl\n",
    "group by journey_id ,  encounter_id , proc_code , proc_modifier , rev_center_code\n",
    "having cnt>1\n",
    "order by cnt desc\n",
    "\"\"\"\n",
    "# , rev_center_units , line_charge\n",
    "\n",
    "print(sqldf(query))\n"
   ]
  },
  {
   "cell_type": "code",
   "execution_count": 9,
   "id": "f05f6b88-1a97-4f8e-aef0-e36e4a2f5eda",
   "metadata": {},
   "outputs": [],
   "source": [
    "# to analyse the level of the dataset\n",
    "query = \"\"\"\n",
    "SELECT *\n",
    "FROM medical_raw\n",
    "WHERE journey_id = '0c8820830b830715c4bb0dd9c2af6ac8' \n",
    "\"\"\"\n",
    "\n",
    "sqldf(query).to_excel('medical_level.xlsx', index=False)"
   ]
  },
  {
   "cell_type": "markdown",
   "id": "f444d288-a00e-4a51-b9ea-f9d9842fa58c",
   "metadata": {},
   "source": [
    "#### **Observations**\n",
    "Original Dataset\n",
    "- Medical : 623,525 rows & 34 columns  || duplicates = 9.67%  || 5 columns with > 50% missing values\n",
    "- Scripts : 894,623 rows & 48 columns  || duplicates = 0.14%  || 19 columns with > 50% missing values\n",
    "\n",
    "Modified Dataset (dopeed duplicate records)\n",
    "- Medical : 563,202 rows \n",
    "- Scripts : 893,390 rows\n",
    "\n",
    "Decisions & Reasons\n",
    "- **Rev center code** = even though 81% missing values, it's useful in identifying the granularity of the dataset (unique for each line charge, i.e works as a unique line item identifier)\n",
    "- **Diag_number** = The diagnoses list reflects the patient's condition and the reason for the visit or encounter determined by the healthcare provider based on their evaluation of the patient. therefore, a visit might have 1 or more diagnosis (minimum being 1); which in turn will have nulls for remaining diagnosis columns diag_2 , diag_3 , diag_4 & diag_5\n",
    "    - Keeping the diag_4 & diag_5 even though they have 51 & 66% missing values; as a patient can have minimum 1 diagnosis. not all patients will have multiple diagnosis\n",
    "- **Proc_modifier** = Since ozempic is a medication and not a procedure, it would not have a procedure modifier in the same way that a medical procedure would.\n",
    "- **Missing values in HCP columns** - hcp_npi , hcp_taxonomy , hcp_specialty , hcp_npi_list\n",
    "    - staff may inadvertently omit HCP taxonomy codes when submitting claims for reimbursement.\n",
    "    - In some situations, HCP taxonomy codes may be considered sensitive information, and as a result, they may be excluded from billing data to protect the privacy of healthcare providers.\n",
    "- join & get more info on proc_code & diagnosis\n",
    "- **Ozempic Data** : records = 705 | proc_code == 'J3490'\n",
    "- DOS - Z79.85 is a new code effective 10/1/22"
   ]
  },
  {
   "cell_type": "code",
   "execution_count": 10,
   "id": "c5ca8d7d-5f13-4e6c-86d2-794aaee0e381",
   "metadata": {},
   "outputs": [
    {
     "name": "stdout",
     "output_type": "stream",
     "text": [
      "Medical : There are 623525 rows & 34 columns in the dataset\n",
      "Scripts : There are 894623 rows & 48 columns in the dataset\n"
     ]
    }
   ],
   "source": [
    "print('Medical : There are',medical_raw.shape[0],'rows &',medical_raw.shape[1],'columns in the dataset')\n",
    "print('Scripts : There are',scripts_raw.shape[0],'rows &',scripts_raw.shape[1],'columns in the dataset')"
   ]
  },
  {
   "cell_type": "code",
   "execution_count": 11,
   "id": "c49531a0-970d-4dcf-9c8d-31cfffb7380e",
   "metadata": {},
   "outputs": [
    {
     "name": "stdout",
     "output_type": "stream",
     "text": [
      "Medical : There are 563202 rows & 34 columns in the dataset\n",
      "Scripts : There are 893390 rows & 48 columns in the dataset\n"
     ]
    }
   ],
   "source": [
    "print('Medical : There are',medical_df.shape[0],'rows &',medical_df.shape[1],'columns in the dataset')\n",
    "print('Scripts : There are',scripts_df.shape[0],'rows &',scripts_df.shape[1],'columns in the dataset')"
   ]
  },
  {
   "cell_type": "code",
   "execution_count": 12,
   "id": "e3797eab-433f-4783-9595-dd5a15f5c079",
   "metadata": {
    "scrolled": true
   },
   "outputs": [
    {
     "name": "stdout",
     "output_type": "stream",
     "text": [
      "<class 'pandas.core.frame.DataFrame'>\n",
      "Index: 563202 entries, 0 to 623524\n",
      "Data columns (total 34 columns):\n",
      " #   Column             Non-Null Count   Dtype  \n",
      "---  ------             --------------   -----  \n",
      " 0   journey_id         563202 non-null  object \n",
      " 1   episode_id         563202 non-null  object \n",
      " 2   visit_id           561496 non-null  object \n",
      " 3   encounter_id       563202 non-null  object \n",
      " 4   claim_date         563202 non-null  object \n",
      " 5   patient_state      563202 non-null  object \n",
      " 6   patient_short_zip  563189 non-null  float64\n",
      " 7   patient_age        557352 non-null  float64\n",
      " 8   patient_gender     563073 non-null  object \n",
      " 9   place_of_service   439462 non-null  object \n",
      " 10  visit_type         543032 non-null  object \n",
      " 11  payor              549688 non-null  object \n",
      " 12  payor_channel      528756 non-null  object \n",
      " 13  ref_npi            269303 non-null  float64\n",
      " 14  hcp_npi            397159 non-null  float64\n",
      " 15  hcp_taxonomy       391502 non-null  object \n",
      " 16  hcp_specialty      391522 non-null  object \n",
      " 17  hco_npi            557925 non-null  float64\n",
      " 18  hcp_npi_list       397159 non-null  object \n",
      " 19  hco_npi_list       557925 non-null  object \n",
      " 20  diag_list          562360 non-null  object \n",
      " 21  diag_1             562360 non-null  object \n",
      " 22  diag_2             416587 non-null  object \n",
      " 23  diag_3             330965 non-null  object \n",
      " 24  diag_4             270787 non-null  object \n",
      " 25  diag_5             186648 non-null  object \n",
      " 26  rev_center_code    102334 non-null  float64\n",
      " 27  rev_center_units   561410 non-null  float64\n",
      " 28  proc_code          541499 non-null  object \n",
      " 29  proc_modifier      148553 non-null  object \n",
      " 30  proc_units         561235 non-null  float64\n",
      " 31  line_charge        563202 non-null  float64\n",
      " 32  claim_charge       563202 non-null  float64\n",
      " 33  smart_allowed      563202 non-null  float64\n",
      "dtypes: float64(11), object(23)\n",
      "memory usage: 150.4+ MB\n"
     ]
    }
   ],
   "source": [
    "medical_df.info() # To check Data types of each column , memory consumption of the dataset & count of non null records "
   ]
  },
  {
   "cell_type": "code",
   "execution_count": 13,
   "id": "20453351-ef21-4612-af61-0c6251a25295",
   "metadata": {
    "scrolled": true
   },
   "outputs": [
    {
     "name": "stdout",
     "output_type": "stream",
     "text": [
      "<class 'pandas.core.frame.DataFrame'>\n",
      "Index: 893390 entries, 0 to 894622\n",
      "Data columns (total 48 columns):\n",
      " #   Column                         Non-Null Count   Dtype  \n",
      "---  ------                         --------------   -----  \n",
      " 0   journey_id                     893390 non-null  object \n",
      " 1   cohort_id                      893390 non-null  int64  \n",
      " 2   claim_id                       893390 non-null  object \n",
      " 3   patient_gender                 893390 non-null  object \n",
      " 4   patient_state                  893390 non-null  object \n",
      " 5   patient_zip                    893268 non-null  float64\n",
      " 6   patient_dob                    893386 non-null  object \n",
      " 7   pharmacy_npi                   838725 non-null  float64\n",
      " 8   pharmacist_npi                 21578 non-null   float64\n",
      " 9   prescriber_npi                 889922 non-null  object \n",
      " 10  primary_care_npi               3560 non-null    object \n",
      " 11  group_id                       272538 non-null  object \n",
      " 12  date_of_service                893390 non-null  object \n",
      " 13  date_authorized                783443 non-null  object \n",
      " 14  transaction_type               893390 non-null  object \n",
      " 15  date_prescription_written      893390 non-null  object \n",
      " 16  ndc11                          893390 non-null  int64  \n",
      " 17  ndc11_original                 94090 non-null   float64\n",
      " 18  number_of_refills_authorized   848286 non-null  float64\n",
      " 19  diagnosis_code                 174466 non-null  object \n",
      " 20  diagnosis_code_type            111634 non-null  float64\n",
      " 21  quantity_prescribed_original   321117 non-null  float64\n",
      " 22  quantity_dispensed             893383 non-null  float64\n",
      " 23  place_of_service               345891 non-null  float64\n",
      " 24  is_service                     677092 non-null  object \n",
      " 25  level_of_service               217947 non-null  float64\n",
      " 26  fill_number                    893390 non-null  float64\n",
      " 27  days_supply                    893390 non-null  float64\n",
      " 28  unit_of_measure                593574 non-null  object \n",
      " 29  daw_code                       192108 non-null  object \n",
      " 30  prior_authorization_type_code  8899 non-null    float64\n",
      " 31  is_compound_drug               783361 non-null  object \n",
      " 32  coupon_type                    2030 non-null    float64\n",
      " 33  coupon_value_amount            5 non-null       float64\n",
      " 34  pharmacy_submitted_cost        783850 non-null  float64\n",
      " 35  patient_pay                    601083 non-null  float64\n",
      " 36  copay_coinsurance              410861 non-null  float64\n",
      " 37  pcn                            774484 non-null  object \n",
      " 38  bin                            785009 non-null  float64\n",
      " 39  plan_pay                       491141 non-null  float64\n",
      " 40  reject_code_1                  186785 non-null  object \n",
      " 41  reject_code_3                  41042 non-null   object \n",
      " 42  reject_code_4                  7358 non-null    object \n",
      " 43  reject_code_5                  1517 non-null    object \n",
      " 44  ndc                            893390 non-null  int64  \n",
      " 45  active                         893390 non-null  bool   \n",
      " 46  start_date                     893390 non-null  int64  \n",
      " 47  end_date                       32382 non-null   float64\n",
      "dtypes: bool(1), float64(21), int64(4), object(22)\n",
      "memory usage: 328.0+ MB\n"
     ]
    }
   ],
   "source": [
    "scripts_df.info()"
   ]
  },
  {
   "cell_type": "code",
   "execution_count": 14,
   "id": "6b7bc019-089f-4f41-b312-7685745d3e7e",
   "metadata": {
    "scrolled": true
   },
   "outputs": [
    {
     "name": "stdout",
     "output_type": "stream",
     "text": [
      "               Column  Null Count  Null Percentage\n",
      "26    rev_center_code      460868        81.829965\n",
      "29      proc_modifier      414649        73.623496\n",
      "25             diag_5      376554        66.859493\n",
      "13            ref_npi      293899        52.183586\n",
      "24             diag_4      292415        51.920093\n",
      "23             diag_3      232237        41.235116\n",
      "15       hcp_taxonomy      171700        30.486397\n",
      "16      hcp_specialty      171680        30.482846\n",
      "18       hcp_npi_list      166043        29.481962\n",
      "14            hcp_npi      166043        29.481962\n",
      "22             diag_2      146615        26.032400\n",
      "9    place_of_service      123740        21.970803\n",
      "12      payor_channel       34446         6.116100\n",
      "28          proc_code       21703         3.853502\n",
      "10         visit_type       20170         3.581308\n",
      "11              payor       13514         2.399494\n",
      "7         patient_age        5850         1.038704\n",
      "19       hco_npi_list        5277         0.936964\n",
      "17            hco_npi        5277         0.936964\n",
      "30         proc_units        1967         0.349253\n",
      "27   rev_center_units        1792         0.318181\n",
      "2            visit_id        1706         0.302911\n",
      "20          diag_list         842         0.149502\n",
      "21             diag_1         842         0.149502\n",
      "8      patient_gender         129         0.022905\n",
      "6   patient_short_zip          13         0.002308\n"
     ]
    }
   ],
   "source": [
    "# Checking for the null values in all the columns and printing only the columns with nulls ordered by desc null count \n",
    "null_info = pd.DataFrame({'Column': medical_df.isnull().sum().index, 'Null Count': medical_df.isnull().sum().values}).sort_values(by='Null Count' , ascending=False)\n",
    "null_info['Null Percentage'] = (null_info['Null Count'] / len(medical_df)) * 100\n",
    "\n",
    "# Display the result\n",
    "print(null_info[null_info['Null Count'] > 0])"
   ]
  },
  {
   "cell_type": "code",
   "execution_count": 15,
   "id": "0f5f662b-2716-4832-97e5-1771ba5d0ac1",
   "metadata": {
    "scrolled": true
   },
   "outputs": [
    {
     "name": "stdout",
     "output_type": "stream",
     "text": [
      "                           Column  Null Count  Null Percentage\n",
      "33            coupon_value_amount      893385        99.999440\n",
      "43                  reject_code_5      891873        99.830197\n",
      "32                    coupon_type      891360        99.772776\n",
      "10               primary_care_npi      889830        99.601518\n",
      "42                  reject_code_4      886032        99.176396\n",
      "30  prior_authorization_type_code      884491        99.003906\n",
      "8                  pharmacist_npi      871812        97.584705\n",
      "47                       end_date      861008        96.375379\n",
      "41                  reject_code_3      852348        95.406038\n",
      "17                 ndc11_original      799300        89.468205\n",
      "20            diagnosis_code_type      781756        87.504449\n",
      "19                 diagnosis_code      718924        80.471463\n",
      "40                  reject_code_1      706605        79.092558\n",
      "29                       daw_code      701282        78.496737\n",
      "25               level_of_service      675443        75.604495\n",
      "11                       group_id      620852        69.493950\n",
      "21   quantity_prescribed_original      572273        64.056347\n",
      "23               place_of_service      547499        61.283314\n",
      "36              copay_coinsurance      482529        54.011014\n",
      "39                       plan_pay      402249        45.025017\n",
      "28                unit_of_measure      299816        33.559364\n",
      "35                    patient_pay      292307        32.718857\n",
      "24                     is_service      216298        24.210927\n",
      "37                            pcn      118906        13.309529\n",
      "31               is_compound_drug      110029        12.315898\n",
      "13                date_authorized      109947        12.306719\n",
      "34        pharmacy_submitted_cost      109540        12.261163\n",
      "38                            bin      108381        12.131432\n",
      "7                    pharmacy_npi       54665         6.118828\n",
      "18   number_of_refills_authorized       45104         5.048635\n",
      "9                  prescriber_npi        3468         0.388184\n",
      "5                     patient_zip         122         0.013656\n",
      "22             quantity_dispensed           7         0.000784\n",
      "6                     patient_dob           4         0.000448\n"
     ]
    }
   ],
   "source": [
    "# Checking for the null values in all the columns and printing only the columns with nulls ordered by desc null count \n",
    "null_info_scripts = pd.DataFrame({'Column': scripts_df.isnull().sum().index, 'Null Count': scripts_df.isnull().sum().values}).sort_values(by='Null Count' , ascending=False)\n",
    "null_info_scripts['Null Percentage'] = (null_info_scripts['Null Count'] / len(scripts_df)) * 100\n",
    "# Display the result\n",
    "print(null_info_scripts[null_info_scripts['Null Count'] > 0])"
   ]
  },
  {
   "cell_type": "code",
   "execution_count": 16,
   "id": "638c5e89-141f-4a54-bab9-e891ba3a92ef",
   "metadata": {
    "scrolled": true
   },
   "outputs": [],
   "source": [
    "missing_diag4 = \"\"\"\n",
    "SELECT *\n",
    "FROM medical_df\n",
    "WHERE journey_id = '00006390c96ebfffed580074c35a16a7'\n",
    "\"\"\"\n",
    "import openpyxl\n",
    "sqldf(missing_diag4).to_excel('missing_diag4.xlsx', index=False)\n",
    "# print(sqldf(missing_diag4))"
   ]
  },
  {
   "cell_type": "code",
   "execution_count": 17,
   "id": "14503f41-04d8-4127-9812-50a3e27d00bb",
   "metadata": {
    "scrolled": true
   },
   "outputs": [],
   "source": [
    "missing_proc_modifier= \"\"\"\n",
    "SELECT *\n",
    "FROM medical_df\n",
    "WHERE proc_modifier is null\n",
    "\"\"\"\n",
    "import openpyxl\n",
    "sqldf(missing_proc_modifier).to_excel('missing_proc_modifier.xlsx', index=False)\n",
    "# print(sqldf(missing_diag4))"
   ]
  },
  {
   "cell_type": "markdown",
   "id": "203c4187-e607-4474-8cc9-7dcd29f8997d",
   "metadata": {},
   "source": [
    "#### **Handling Missing Data**\n",
    "- Since we will be training the model on predicting price, it would make sense to drop any null values in the price column\n",
    "- Since car, latitude & longitude are not key columns, I'm imputing with 0 to differentiate these records from the other records in the dataset\n",
    "- Imputing with Mean : buildng area , land size\n",
    "- Imputing with Median : bathroom , bedroom & YearBuilt\n",
    "- New Dataset has 391 record since we dropped the 108 NA's in Price column\n",
    "- One-hot encoding : applying encoding on Regionname & Type columns"
   ]
  },
  {
   "cell_type": "code",
   "execution_count": 18,
   "id": "0f9ac97d-6133-4d51-8ad4-79eec4990bb6",
   "metadata": {},
   "outputs": [],
   "source": [
    "# dropping irrelavant columns from the dataset\n",
    "# following columns are not very useful in context of assessing the efficiency of the ozempic on hyperintensive patients & they have >80% missing values\n",
    "# therefore dropping these columns from the analysis\n",
    "\n",
    "medical_df = medical_df.drop(columns=[ 'ref_npi']) \n",
    "scripts_df = scripts_df.drop(columns=['pharmacist_npi' , 'coupon_type' , 'coupon_value_amount'])\n",
    "\n",
    "# Imputing Na with mean\n",
    "medical_df['patient_age']= medical_df['patient_age'].fillna(medical_df['patient_age'].mean())\n",
    "\n",
    "# Imputing Na with mode\n",
    "mode_zip = medical_df.groupby('patient_state')['patient_short_zip'].apply(lambda x: x.mode().iloc[0] if not x.mode().empty else pd.NA)\n",
    "# Update missing values in the 'zip' column with the mode for each state\n",
    "medical_df['patient_short_zip'] = medical_df['patient_short_zip'].fillna(medical_df['patient_state'].map(mode_zip))\n",
    "\n",
    "#handling NA's by replacing with 'UNKNOWN'\n",
    "medical_df[['visit_id' , 'place_of_service'  , 'visit_type' , 'payor' , 'payor_channel' , 'hcp_taxonomy' , 'hcp_specialty' , 'hcp_npi_list' , 'hco_npi_list' , 'diag_list' , 'diag_1' , 'diag_2' , 'diag_3' , 'diag_4' , 'diag_5' , 'proc_code' , 'proc_modifier' , 'rev_center_code']] = medical_df[['visit_id' , 'place_of_service' , 'visit_type' , 'payor' , 'payor_channel' , 'hcp_taxonomy' , 'hcp_specialty' , 'hcp_npi_list' , 'hco_npi_list' , 'diag_list' , 'diag_1' , 'diag_2' , 'diag_3' , 'diag_4' , 'diag_5' , 'proc_code' , 'proc_modifier', 'rev_center_code']].fillna('UNKNOWN')\n",
    "medical_df['hcp_npi'] = medical_df['hcp_npi'].astype(str).fillna('UNKNOWN')\n",
    "medical_df['hco_npi'] = medical_df['hco_npi'].astype(str).fillna('UNKNOWN')"
   ]
  },
  {
   "cell_type": "code",
   "execution_count": 19,
   "id": "69302b29-743b-4986-b00d-ff5422c7b6b2",
   "metadata": {},
   "outputs": [
    {
     "name": "stdout",
     "output_type": "stream",
     "text": [
      "572 325\n"
     ]
    }
   ],
   "source": [
    "## PROCEDURE CODE\n",
    "unique_proc_code = medical_df['proc_code'].unique()\n",
    "unique_proc_code_count =  medical_df['proc_code'].nunique()\n",
    "\n",
    "# Extract unique 'proc_code' values that start with 'J'\n",
    "unique_proc_code_J = medical_df[medical_df['proc_code'].str.startswith('J')]['proc_code'].unique()\n",
    "unique_proc_code_count_J = medical_df[medical_df['proc_code'].str.startswith('J')]['proc_code'].nunique()\n",
    "\n",
    "## DIAGNOSIS\n",
    "unique_diag_1 = medical_df['diag_1'].unique()\n",
    "unique_diag_1_count =  medical_df['diag_1'].nunique()\n",
    "\n",
    "# Extract unique 'proc_code' values that start with 'J'\n",
    "unique_diag_1_z = medical_df[medical_df['diag_1'].str.startswith('Z')]['diag_1'].unique()\n",
    "unique_diag_1_count_z = medical_df[medical_df['diag_1'].str.startswith('Z')]['diag_1'].nunique()\n",
    "\n",
    "print(unique_diag_1_count_z , unique_proc_code_count_J)\n"
   ]
  },
  {
   "cell_type": "code",
   "execution_count": 20,
   "id": "9c3b2f9b-1e5f-4110-9722-2dcc1436006f",
   "metadata": {
    "scrolled": true
   },
   "outputs": [],
   "source": [
    "proc_code_ozempic = \"\"\"\n",
    "SELECT *\n",
    "FROM medical_df\n",
    "WHERE proc_code == 'J3490'\n",
    "\"\"\"\n",
    "ozempic_medical_df = sqldf(proc_code_ozempic)\n",
    "\n",
    "# records = 705 | proc_code == 'J3490'\n",
    "# records = 13333 | proc_code like 'J%' | unique proc codes starting with J = 325"
   ]
  },
  {
   "cell_type": "code",
   "execution_count": 21,
   "id": "9989b182-8ac0-4aee-82c6-8fae0e18c5f5",
   "metadata": {},
   "outputs": [
    {
     "name": "stdout",
     "output_type": "stream",
     "text": [
      "Empty DataFrame\n",
      "Columns: [Column, Null Count]\n",
      "Index: []\n"
     ]
    }
   ],
   "source": [
    "# Checking missing values post imputation/handling\n",
    "null_info = pd.DataFrame({'Column': ozempic_medical_df.isnull().sum().index, 'Null Count': ozempic_medical_df.isnull().sum().values}).sort_values(by='Null Count' , ascending=False)\n",
    "print(null_info[null_info['Null Count'] > 0])"
   ]
  },
  {
   "cell_type": "code",
   "execution_count": 22,
   "id": "ddbe6bf7-3770-46c9-815e-a1b389c8122a",
   "metadata": {},
   "outputs": [
    {
     "name": "stdout",
     "output_type": "stream",
     "text": [
      "        count\n",
      "diag_1       \n",
      "Z79899   1679\n",
      "Z79891    675\n",
      "Z79890     27\n",
      "Z7984      17\n",
      "Z7982      15\n",
      "Z79810      4\n",
      "Z79811      2\n"
     ]
    }
   ],
   "source": [
    "# Z79.85 is the code given to - \"Lng trm (crnt) use injectable non-insulin antidiabetic drugs\" (which includes ozzempic)\n",
    "#2024 edition of Z79.85 became effective on October 1, 2023, this could be the reasons as to why we aren't finding this code in our data as our data is until september 2023\n",
    "unique_diag_1_Z = medical_df.loc[medical_df['diag_1'].str.startswith('Z798'), 'diag_1'].unique()\n",
    "unique_diag_1_Z_counts = medical_df.loc[medical_df['diag_1'].isin(unique_diag_1_Z), 'diag_1'].value_counts().to_frame(name='count')\n",
    "print(unique_diag_1_Z_counts)"
   ]
  },
  {
   "cell_type": "code",
   "execution_count": 23,
   "id": "cd0e30fe-6e25-4ff1-bd68-f4cee58597cd",
   "metadata": {},
   "outputs": [
    {
     "name": "stdout",
     "output_type": "stream",
     "text": [
      "        count\n",
      "diag_1       \n",
      "E6601    2775\n",
      "E669     1765\n",
      "E663      518\n",
      "E6609     246\n",
      "E662       73\n",
      "E668       47\n",
      "E661        9\n"
     ]
    }
   ],
   "source": [
    "# E66.01 is primary as per CMS - Morbid (severe) obesity due to excess calories\n",
    "unique_diag_1_E = medical_df.loc[medical_df['diag_1'].str.startswith('E66'), 'diag_1'].unique()\n",
    "unique_diag_1_E_counts = medical_df.loc[medical_df['diag_1'].isin(unique_diag_1_E), 'diag_1'].value_counts().to_frame(name='count')\n",
    "print(unique_diag_1_E_counts)"
   ]
  },
  {
   "cell_type": "code",
   "execution_count": 24,
   "id": "c3a96d62-2783-435b-b5bc-5b4380de34b5",
   "metadata": {},
   "outputs": [
    {
     "name": "stdout",
     "output_type": "stream",
     "text": [
      "        count\n",
      "diag_1       \n",
      "E669        1\n"
     ]
    }
   ],
   "source": [
    "# E66.01 is primary as per CMS - Morbid (severe) obesity due to excess calories\n",
    "unique_diag_1_E = ozempic_medical_df.loc[ozempic_medical_df['diag_1'].str.startswith('E66'), 'diag_1'].unique()\n",
    "unique_diag_1_E_counts = ozempic_medical_df.loc[ozempic_medical_df['diag_1'].isin(unique_diag_1_E), 'diag_1'].value_counts().to_frame(name='count')\n",
    "print(unique_diag_1_E_counts)"
   ]
  },
  {
   "cell_type": "markdown",
   "id": "c138319c-2edf-4690-92a9-38153b32632e",
   "metadata": {},
   "source": [
    "##### Diagnosis codes for hypertension found in ozempic proc code are : ['I10', 'I119', 'I110', 'I120', 'I130', 'I159', 'I129', 'I160']"
   ]
  },
  {
   "cell_type": "code",
   "execution_count": 25,
   "id": "e5d59fb1-8cea-4d43-8cd8-4b2e94204606",
   "metadata": {},
   "outputs": [
    {
     "name": "stdout",
     "output_type": "stream",
     "text": [
      "['I10', 'I119', 'I110', 'I120', 'I130', 'I159', 'I129', 'I160']\n"
     ]
    }
   ],
   "source": [
    "columns_of_interest = ['diag_1', 'diag_2', 'diag_3', 'diag_4']\n",
    "\n",
    "# Concatenate the four columns and get the unique values\n",
    "unique_values_hp = pd.concat([ozempic_medical_df[column].str.extract(r'^I1(\\d+)')[0] for column in columns_of_interest]).unique()\n",
    "\n",
    "# Create an empty list to store unique values\n",
    "unique_values_combined_hp = []\n",
    "\n",
    "for value in unique_values_hp:\n",
    "\n",
    "    if pd.notna(value):\n",
    "        # Append the value to the list, with 'I1' concatenated\n",
    "        unique_values_combined_hp.append('I1' + str(value))\n",
    "\n",
    "print(unique_values_combined_hp)"
   ]
  },
  {
   "cell_type": "markdown",
   "id": "3d02bb47-7dc4-457b-a1d4-72b4d55502c4",
   "metadata": {},
   "source": [
    "##### Diagnosis codes for obesity found in ozempic proc code are : ['E669', 'E6601', 'E662']"
   ]
  },
  {
   "cell_type": "code",
   "execution_count": 26,
   "id": "b4ae735e-1f90-4d7b-9d1d-050e4efac5cb",
   "metadata": {},
   "outputs": [
    {
     "name": "stdout",
     "output_type": "stream",
     "text": [
      "['E669', 'E6601', 'E662']\n"
     ]
    }
   ],
   "source": [
    "columns_of_interest = ['diag_1', 'diag_2', 'diag_3', 'diag_4']\n",
    "\n",
    "# Concatenate the four columns and get the unique values\n",
    "unique_values_ob = pd.concat([ozempic_medical_df[column].str.extract(r'^E66(\\d+)')[0] for column in columns_of_interest]).unique()\n",
    "\n",
    "# Create an empty list to store unique values\n",
    "unique_values_combined_ob = []\n",
    "\n",
    "for value in unique_values_ob:\n",
    "\n",
    "    if pd.notna(value):\n",
    "        # Append the value to the list, with 'E66' concatenated\n",
    "        unique_values_combined_ob.append('E66' + str(value))\n",
    "\n",
    "print(unique_values_combined_ob)\n"
   ]
  },
  {
   "cell_type": "code",
   "execution_count": 27,
   "id": "2dddc58d-05a5-4cd5-b97f-bfe4e3cf77af",
   "metadata": {},
   "outputs": [],
   "source": [
    "condition = ozempic_medical_df[['diag_1', 'diag_2', 'diag_3', 'diag_4']].isin(unique_values_combined_ob + unique_values_combined_hp).any(axis=1)\n",
    "\n",
    "# Select the rows where any of the four columns has a value in the list\n",
    "selected_rows = ozempic_medical_df[condition]"
   ]
  },
  {
   "cell_type": "code",
   "execution_count": 28,
   "id": "4449e09b-a490-4f5f-af33-4522fe175108",
   "metadata": {},
   "outputs": [
    {
     "data": {
      "text/plain": [
       "(247, 33)"
      ]
     },
     "execution_count": 28,
     "metadata": {},
     "output_type": "execute_result"
    }
   ],
   "source": [
    "selected_rows.shape"
   ]
  },
  {
   "cell_type": "code",
   "execution_count": 29,
   "id": "1d0f2bd6-4154-47f9-94eb-deba6dd85c29",
   "metadata": {},
   "outputs": [
    {
     "name": "stdout",
     "output_type": "stream",
     "text": [
      "        count\n",
      "diag_1       \n",
      "I10      7.13\n",
      "I129     0.22\n",
      "I119     0.21\n",
      "I110     0.21\n",
      "I130     0.12\n",
      "I160     0.07\n",
      "I1310    0.03\n",
      "I120     0.03\n",
      "I161     0.03\n",
      "I132     0.03\n",
      "I152     0.00\n",
      "I169     0.00\n",
      "I150     0.00\n",
      "I1311    0.00\n",
      "I151     0.00\n",
      "I159     0.00\n",
      "I158     0.00\n"
     ]
    }
   ],
   "source": [
    "# I10\tEssential (primary) hypertension as per CMS \n",
    "# 7.13% of the patients diagnosed with hypertension\n",
    "len_df = len(medical_df)\n",
    "unique_diag_1_E = medical_df.loc[medical_df['diag_1'].str.startswith('I1'), 'diag_1'].unique()\n",
    "unique_diag_1_E_counts = medical_df.loc[medical_df['diag_1'].isin(unique_diag_1_E), 'diag_1'].value_counts().to_frame(name='count')\n",
    "unique_diag_1_E_counts['count'] *= 100\n",
    "\n",
    "# Calculate the percentage relative to the length of the entire DataFrame\n",
    "unique_diag_1_E_counts['count'] /= len_df\n",
    "print(round(unique_diag_1_E_counts,2))"
   ]
  },
  {
   "cell_type": "code",
   "execution_count": 30,
   "id": "ac5236ca-bb3b-4bea-80ed-aa2627c9e2ed",
   "metadata": {},
   "outputs": [
    {
     "name": "stdout",
     "output_type": "stream",
     "text": [
      "['PAID' 'REJECTED' 'REVERSED']\n"
     ]
    }
   ],
   "source": [
    "## NDC CODES & TRANSACTION TYPE\n",
    "unique_ndc11_code = scripts_df['ndc11'].unique()\n",
    "unique_ndc11_code_count =  scripts_df['ndc11'].nunique()\n",
    "\n",
    "unique_transaction_type_code = scripts_df['transaction_type'].unique()\n",
    "unique_transaction_type_count =  scripts_df['transaction_type'].nunique()\n",
    "\n",
    "print(unique_transaction_type_code)\n"
   ]
  },
  {
   "cell_type": "code",
   "execution_count": 31,
   "id": "b3122f07-0738-45f9-977d-df19bd384be6",
   "metadata": {},
   "outputs": [
    {
     "data": {
      "text/html": [
       "<div>\n",
       "<style scoped>\n",
       "    .dataframe tbody tr th:only-of-type {\n",
       "        vertical-align: middle;\n",
       "    }\n",
       "\n",
       "    .dataframe tbody tr th {\n",
       "        vertical-align: top;\n",
       "    }\n",
       "\n",
       "    .dataframe thead th {\n",
       "        text-align: right;\n",
       "    }\n",
       "</style>\n",
       "<table border=\"1\" class=\"dataframe\">\n",
       "  <thead>\n",
       "    <tr style=\"text-align: right;\">\n",
       "      <th></th>\n",
       "      <th>journey_id</th>\n",
       "      <th>cohort_id</th>\n",
       "      <th>claim_id</th>\n",
       "      <th>patient_gender</th>\n",
       "      <th>patient_state</th>\n",
       "      <th>patient_zip</th>\n",
       "      <th>patient_dob</th>\n",
       "      <th>pharmacy_npi</th>\n",
       "      <th>prescriber_npi</th>\n",
       "      <th>primary_care_npi</th>\n",
       "      <th>...</th>\n",
       "      <th>bin</th>\n",
       "      <th>plan_pay</th>\n",
       "      <th>reject_code_1</th>\n",
       "      <th>reject_code_3</th>\n",
       "      <th>reject_code_4</th>\n",
       "      <th>reject_code_5</th>\n",
       "      <th>ndc</th>\n",
       "      <th>active</th>\n",
       "      <th>start_date</th>\n",
       "      <th>end_date</th>\n",
       "    </tr>\n",
       "  </thead>\n",
       "  <tbody>\n",
       "    <tr>\n",
       "      <th>0</th>\n",
       "      <td>00006390c96ebfffed580074c35a16a7</td>\n",
       "      <td>16</td>\n",
       "      <td>60618bd8d37311da702bf9349e76f8c26d515c082e136f...</td>\n",
       "      <td>M</td>\n",
       "      <td>CA</td>\n",
       "      <td>922.0</td>\n",
       "      <td>1961-01-01</td>\n",
       "      <td>1.215361e+09</td>\n",
       "      <td>1750479168</td>\n",
       "      <td>NaN</td>\n",
       "      <td>...</td>\n",
       "      <td>22659.0</td>\n",
       "      <td>NaN</td>\n",
       "      <td>NaN</td>\n",
       "      <td>NaN</td>\n",
       "      <td>NaN</td>\n",
       "      <td>NaN</td>\n",
       "      <td>47335067381</td>\n",
       "      <td>True</td>\n",
       "      <td>190001</td>\n",
       "      <td>NaN</td>\n",
       "    </tr>\n",
       "    <tr>\n",
       "      <th>1</th>\n",
       "      <td>00006390c96ebfffed580074c35a16a7</td>\n",
       "      <td>16</td>\n",
       "      <td>dbeb47defd161331e43f4e359e8d43e4ef7546ff58359b...</td>\n",
       "      <td>M</td>\n",
       "      <td>CA</td>\n",
       "      <td>922.0</td>\n",
       "      <td>1961-01-01</td>\n",
       "      <td>1.215361e+09</td>\n",
       "      <td>1750479168</td>\n",
       "      <td>NaN</td>\n",
       "      <td>...</td>\n",
       "      <td>22659.0</td>\n",
       "      <td>NaN</td>\n",
       "      <td>NaN</td>\n",
       "      <td>NaN</td>\n",
       "      <td>NaN</td>\n",
       "      <td>NaN</td>\n",
       "      <td>47335067381</td>\n",
       "      <td>True</td>\n",
       "      <td>190001</td>\n",
       "      <td>NaN</td>\n",
       "    </tr>\n",
       "    <tr>\n",
       "      <th>2</th>\n",
       "      <td>00006390c96ebfffed580074c35a16a7</td>\n",
       "      <td>16</td>\n",
       "      <td>02927d081fad10afffcba79bad27f94ff52c98e968aaec...</td>\n",
       "      <td>M</td>\n",
       "      <td>CA</td>\n",
       "      <td>922.0</td>\n",
       "      <td>1961-01-01</td>\n",
       "      <td>1.215361e+09</td>\n",
       "      <td>1750479168</td>\n",
       "      <td>NaN</td>\n",
       "      <td>...</td>\n",
       "      <td>22659.0</td>\n",
       "      <td>NaN</td>\n",
       "      <td>NaN</td>\n",
       "      <td>NaN</td>\n",
       "      <td>NaN</td>\n",
       "      <td>NaN</td>\n",
       "      <td>47335067381</td>\n",
       "      <td>True</td>\n",
       "      <td>190001</td>\n",
       "      <td>NaN</td>\n",
       "    </tr>\n",
       "    <tr>\n",
       "      <th>3</th>\n",
       "      <td>00006390c96ebfffed580074c35a16a7</td>\n",
       "      <td>16</td>\n",
       "      <td>a412c986e2503a5140ed1482e88b5ec50feeedaf2d89ec...</td>\n",
       "      <td>M</td>\n",
       "      <td>CA</td>\n",
       "      <td>922.0</td>\n",
       "      <td>1961-01-01</td>\n",
       "      <td>1.215361e+09</td>\n",
       "      <td>1750479168</td>\n",
       "      <td>NaN</td>\n",
       "      <td>...</td>\n",
       "      <td>22659.0</td>\n",
       "      <td>NaN</td>\n",
       "      <td>NaN</td>\n",
       "      <td>NaN</td>\n",
       "      <td>NaN</td>\n",
       "      <td>NaN</td>\n",
       "      <td>47335067381</td>\n",
       "      <td>True</td>\n",
       "      <td>190001</td>\n",
       "      <td>NaN</td>\n",
       "    </tr>\n",
       "    <tr>\n",
       "      <th>4</th>\n",
       "      <td>00006390c96ebfffed580074c35a16a7</td>\n",
       "      <td>16</td>\n",
       "      <td>b65634edd78998753fe9606b142b2fff7765d6c576973c...</td>\n",
       "      <td>M</td>\n",
       "      <td>CA</td>\n",
       "      <td>922.0</td>\n",
       "      <td>1961-01-01</td>\n",
       "      <td>1.215361e+09</td>\n",
       "      <td>1750479168</td>\n",
       "      <td>NaN</td>\n",
       "      <td>...</td>\n",
       "      <td>22659.0</td>\n",
       "      <td>NaN</td>\n",
       "      <td>NaN</td>\n",
       "      <td>NaN</td>\n",
       "      <td>NaN</td>\n",
       "      <td>NaN</td>\n",
       "      <td>65862059805</td>\n",
       "      <td>True</td>\n",
       "      <td>190001</td>\n",
       "      <td>NaN</td>\n",
       "    </tr>\n",
       "  </tbody>\n",
       "</table>\n",
       "<p>5 rows × 45 columns</p>\n",
       "</div>"
      ],
      "text/plain": [
       "                         journey_id  cohort_id  \\\n",
       "0  00006390c96ebfffed580074c35a16a7         16   \n",
       "1  00006390c96ebfffed580074c35a16a7         16   \n",
       "2  00006390c96ebfffed580074c35a16a7         16   \n",
       "3  00006390c96ebfffed580074c35a16a7         16   \n",
       "4  00006390c96ebfffed580074c35a16a7         16   \n",
       "\n",
       "                                            claim_id patient_gender  \\\n",
       "0  60618bd8d37311da702bf9349e76f8c26d515c082e136f...              M   \n",
       "1  dbeb47defd161331e43f4e359e8d43e4ef7546ff58359b...              M   \n",
       "2  02927d081fad10afffcba79bad27f94ff52c98e968aaec...              M   \n",
       "3  a412c986e2503a5140ed1482e88b5ec50feeedaf2d89ec...              M   \n",
       "4  b65634edd78998753fe9606b142b2fff7765d6c576973c...              M   \n",
       "\n",
       "  patient_state  patient_zip patient_dob  pharmacy_npi prescriber_npi  \\\n",
       "0            CA        922.0  1961-01-01  1.215361e+09     1750479168   \n",
       "1            CA        922.0  1961-01-01  1.215361e+09     1750479168   \n",
       "2            CA        922.0  1961-01-01  1.215361e+09     1750479168   \n",
       "3            CA        922.0  1961-01-01  1.215361e+09     1750479168   \n",
       "4            CA        922.0  1961-01-01  1.215361e+09     1750479168   \n",
       "\n",
       "  primary_care_npi  ...      bin plan_pay reject_code_1 reject_code_3  \\\n",
       "0              NaN  ...  22659.0      NaN           NaN           NaN   \n",
       "1              NaN  ...  22659.0      NaN           NaN           NaN   \n",
       "2              NaN  ...  22659.0      NaN           NaN           NaN   \n",
       "3              NaN  ...  22659.0      NaN           NaN           NaN   \n",
       "4              NaN  ...  22659.0      NaN           NaN           NaN   \n",
       "\n",
       "  reject_code_4  reject_code_5          ndc  active start_date  end_date  \n",
       "0           NaN            NaN  47335067381    True     190001       NaN  \n",
       "1           NaN            NaN  47335067381    True     190001       NaN  \n",
       "2           NaN            NaN  47335067381    True     190001       NaN  \n",
       "3           NaN            NaN  47335067381    True     190001       NaN  \n",
       "4           NaN            NaN  65862059805    True     190001       NaN  \n",
       "\n",
       "[5 rows x 45 columns]"
      ]
     },
     "execution_count": 31,
     "metadata": {},
     "output_type": "execute_result"
    }
   ],
   "source": [
    "# ozempic_scripts_df = scripts_df[scripts_df['ndc11'].isin([169413001,  169413013,  169413211,  169413212, 169413290,  169413297,  169413602,  169413611,  169418103,  169418113,  169418190,  169418197,  169477211,  169477212,  169477290,  169477297])]\n",
    "ozempic_scripts_df = scripts_df[scripts_df['transaction_type'].isin(['PAID'])]\n",
    "ozempic_scripts_df.head()"
   ]
  },
  {
   "cell_type": "code",
   "execution_count": 32,
   "id": "4af8c6aa-30d7-45fe-8070-6890dcfdb7f0",
   "metadata": {},
   "outputs": [],
   "source": [
    "scripts_lvl = \"\"\"\n",
    "SELECT *\n",
    "FROM ozempic_scripts_df\n",
    "WHERE journey_id = '04acf247b3079de7b6bb76462da48423'\n",
    "\"\"\"\n",
    "# print(sqldf(query))\n",
    "\n",
    "sqldf(scripts_lvl).to_excel('scripts_lvl.xlsx', index=False)\n"
   ]
  },
  {
   "cell_type": "code",
   "execution_count": 33,
   "id": "b0ec3cef-ad88-4ee6-b297-b7279eda0502",
   "metadata": {},
   "outputs": [
    {
     "data": {
      "text/html": [
       "<div>\n",
       "<style scoped>\n",
       "    .dataframe tbody tr th:only-of-type {\n",
       "        vertical-align: middle;\n",
       "    }\n",
       "\n",
       "    .dataframe tbody tr th {\n",
       "        vertical-align: top;\n",
       "    }\n",
       "\n",
       "    .dataframe thead th {\n",
       "        text-align: right;\n",
       "    }\n",
       "</style>\n",
       "<table border=\"1\" class=\"dataframe\">\n",
       "  <thead>\n",
       "    <tr style=\"text-align: right;\">\n",
       "      <th></th>\n",
       "      <th>journey_id</th>\n",
       "      <th>claim_id</th>\n",
       "      <th>date_authorized</th>\n",
       "      <th>cnt</th>\n",
       "    </tr>\n",
       "  </thead>\n",
       "  <tbody>\n",
       "    <tr>\n",
       "      <th>0</th>\n",
       "      <td>1dcf69cae91dd5d976b86d221535c362</td>\n",
       "      <td>f4acf67b651d13ccb399d80676b4cebbb9b1d270e303f8...</td>\n",
       "      <td>2022-11-18</td>\n",
       "      <td>4</td>\n",
       "    </tr>\n",
       "    <tr>\n",
       "      <th>1</th>\n",
       "      <td>019a5991eeffe87da1b05722d2fa4d47</td>\n",
       "      <td>6515ffb76cb4f74ad14ed4accf07497f52818c16fc54e6...</td>\n",
       "      <td>2022-12-30</td>\n",
       "      <td>3</td>\n",
       "    </tr>\n",
       "    <tr>\n",
       "      <th>2</th>\n",
       "      <td>01b3b99dd6b45372ad3822d788d67378</td>\n",
       "      <td>687a4f125d09a1d2a37182806558a59de5cc1bc6a0da74...</td>\n",
       "      <td>2023-03-15</td>\n",
       "      <td>3</td>\n",
       "    </tr>\n",
       "    <tr>\n",
       "      <th>3</th>\n",
       "      <td>01b3b99dd6b45372ad3822d788d67378</td>\n",
       "      <td>d01f73c9a8f2e6f5a1c5b2da11493e205a24c689b33719...</td>\n",
       "      <td>2023-03-15</td>\n",
       "      <td>3</td>\n",
       "    </tr>\n",
       "    <tr>\n",
       "      <th>4</th>\n",
       "      <td>0221b1d37da4f3c035b93094aa5529de</td>\n",
       "      <td>ba1d7bbe95dd5553380c6db3f2c8588c1084c1c983cc97...</td>\n",
       "      <td>2023-05-23</td>\n",
       "      <td>3</td>\n",
       "    </tr>\n",
       "    <tr>\n",
       "      <th>...</th>\n",
       "      <td>...</td>\n",
       "      <td>...</td>\n",
       "      <td>...</td>\n",
       "      <td>...</td>\n",
       "    </tr>\n",
       "    <tr>\n",
       "      <th>15718</th>\n",
       "      <td>1ff83a5bc630aaaf1d7609eebbcb1f56</td>\n",
       "      <td>814f11e460941e6bfba31a81108fc46ad2881237cc562d...</td>\n",
       "      <td>2023-01-03</td>\n",
       "      <td>2</td>\n",
       "    </tr>\n",
       "    <tr>\n",
       "      <th>15719</th>\n",
       "      <td>1ff83a5bc630aaaf1d7609eebbcb1f56</td>\n",
       "      <td>c78668eaf59cc9e1bcd6261cb9bdebf596549e27b3237b...</td>\n",
       "      <td>2023-04-28</td>\n",
       "      <td>2</td>\n",
       "    </tr>\n",
       "    <tr>\n",
       "      <th>15720</th>\n",
       "      <td>1ff83a5bc630aaaf1d7609eebbcb1f56</td>\n",
       "      <td>ddaf92a62278aac43085626e2779eb72d5f25b25e1ff1d...</td>\n",
       "      <td>2022-07-26</td>\n",
       "      <td>2</td>\n",
       "    </tr>\n",
       "    <tr>\n",
       "      <th>15721</th>\n",
       "      <td>1ff8fc83bf1796e9a601c6fdaaa5a3ef</td>\n",
       "      <td>7160df14584b3a1c32f57d8ce17b44d99bc103fcf3cbda...</td>\n",
       "      <td>2023-02-22</td>\n",
       "      <td>2</td>\n",
       "    </tr>\n",
       "    <tr>\n",
       "      <th>15722</th>\n",
       "      <td>1ff8ff0a9c69c0d70e83a2061727c792</td>\n",
       "      <td>04ff28b5d637f4915d4fa38c10cb65d58fb1fffd9afb74...</td>\n",
       "      <td>2023-06-06</td>\n",
       "      <td>2</td>\n",
       "    </tr>\n",
       "  </tbody>\n",
       "</table>\n",
       "<p>15723 rows × 4 columns</p>\n",
       "</div>"
      ],
      "text/plain": [
       "                             journey_id  \\\n",
       "0      1dcf69cae91dd5d976b86d221535c362   \n",
       "1      019a5991eeffe87da1b05722d2fa4d47   \n",
       "2      01b3b99dd6b45372ad3822d788d67378   \n",
       "3      01b3b99dd6b45372ad3822d788d67378   \n",
       "4      0221b1d37da4f3c035b93094aa5529de   \n",
       "...                                 ...   \n",
       "15718  1ff83a5bc630aaaf1d7609eebbcb1f56   \n",
       "15719  1ff83a5bc630aaaf1d7609eebbcb1f56   \n",
       "15720  1ff83a5bc630aaaf1d7609eebbcb1f56   \n",
       "15721  1ff8fc83bf1796e9a601c6fdaaa5a3ef   \n",
       "15722  1ff8ff0a9c69c0d70e83a2061727c792   \n",
       "\n",
       "                                                claim_id date_authorized  cnt  \n",
       "0      f4acf67b651d13ccb399d80676b4cebbb9b1d270e303f8...      2022-11-18    4  \n",
       "1      6515ffb76cb4f74ad14ed4accf07497f52818c16fc54e6...      2022-12-30    3  \n",
       "2      687a4f125d09a1d2a37182806558a59de5cc1bc6a0da74...      2023-03-15    3  \n",
       "3      d01f73c9a8f2e6f5a1c5b2da11493e205a24c689b33719...      2023-03-15    3  \n",
       "4      ba1d7bbe95dd5553380c6db3f2c8588c1084c1c983cc97...      2023-05-23    3  \n",
       "...                                                  ...             ...  ...  \n",
       "15718  814f11e460941e6bfba31a81108fc46ad2881237cc562d...      2023-01-03    2  \n",
       "15719  c78668eaf59cc9e1bcd6261cb9bdebf596549e27b3237b...      2023-04-28    2  \n",
       "15720  ddaf92a62278aac43085626e2779eb72d5f25b25e1ff1d...      2022-07-26    2  \n",
       "15721  7160df14584b3a1c32f57d8ce17b44d99bc103fcf3cbda...      2023-02-22    2  \n",
       "15722  04ff28b5d637f4915d4fa38c10cb65d58fb1fffd9afb74...      2023-06-06    2  \n",
       "\n",
       "[15723 rows x 4 columns]"
      ]
     },
     "execution_count": 33,
     "metadata": {},
     "output_type": "execute_result"
    }
   ],
   "source": [
    "scripts_lvl = \"\"\"\n",
    "SELECT journey_id , claim_id ,date_authorized , count(*) cnt\n",
    "FROM ozempic_scripts_df\n",
    "group by journey_id ,  claim_id , date_authorized\n",
    "having cnt>1\n",
    "order by cnt desc\n",
    "\"\"\"\n",
    "sqldf(scripts_lvl)"
   ]
  },
  {
   "cell_type": "code",
   "execution_count": 34,
   "id": "c85cd775-c5a7-4ff0-8639-14283918c917",
   "metadata": {},
   "outputs": [
    {
     "data": {
      "text/plain": [
       "(614206, 45)"
      ]
     },
     "execution_count": 34,
     "metadata": {},
     "output_type": "execute_result"
    }
   ],
   "source": [
    "ozempic_scripts_df.shape"
   ]
  },
  {
   "cell_type": "code",
   "execution_count": 35,
   "id": "a5428055-3fb0-4f08-add6-1b2a8047323a",
   "metadata": {},
   "outputs": [
    {
     "data": {
      "text/plain": [
       "(705, 33)"
      ]
     },
     "execution_count": 35,
     "metadata": {},
     "output_type": "execute_result"
    }
   ],
   "source": [
    "ozempic_medical_df.shape"
   ]
  },
  {
   "cell_type": "code",
   "execution_count": 36,
   "id": "1ed203f9-9bec-49ef-8e8c-b4c1ce407e31",
   "metadata": {},
   "outputs": [
    {
     "name": "stdout",
     "output_type": "stream",
     "text": [
      "389\n"
     ]
    }
   ],
   "source": [
    "print(ozempic_medical_df[ozempic_medical_df['journey_id'].isin(ozempic_scripts_df['journey_id'])]['journey_id'].count())"
   ]
  },
  {
   "cell_type": "code",
   "execution_count": 37,
   "id": "6c6bc0dd-cc97-4d0d-9aa1-70711908ac19",
   "metadata": {},
   "outputs": [],
   "source": [
    "scripts_lvl = \"\"\"\n",
    "SELECT m.journey_id , claim_id , date(claim_date) ,date_of_service ,date_authorized , date_prescription_written\n",
    "FROM ozempic_medical_df m\n",
    "left join ozempic_scripts_df s\n",
    "on m.journey_id = s.journey_id\n",
    "\"\"\"\n",
    "sqldf(scripts_lvl).to_excel('merge_analysis.xlsx', index=False)"
   ]
  },
  {
   "cell_type": "code",
   "execution_count": 38,
   "id": "f70c22e7-0701-4561-95f9-729a75f52a27",
   "metadata": {},
   "outputs": [
    {
     "data": {
      "text/html": [
       "<div>\n",
       "<style scoped>\n",
       "    .dataframe tbody tr th:only-of-type {\n",
       "        vertical-align: middle;\n",
       "    }\n",
       "\n",
       "    .dataframe tbody tr th {\n",
       "        vertical-align: top;\n",
       "    }\n",
       "\n",
       "    .dataframe thead th {\n",
       "        text-align: right;\n",
       "    }\n",
       "</style>\n",
       "<table border=\"1\" class=\"dataframe\">\n",
       "  <thead>\n",
       "    <tr style=\"text-align: right;\">\n",
       "      <th></th>\n",
       "      <th>value</th>\n",
       "    </tr>\n",
       "  </thead>\n",
       "  <tbody>\n",
       "    <tr>\n",
       "      <th>N18.6</th>\n",
       "      <td>Chronic kidney disease (CKD) stage 5</td>\n",
       "    </tr>\n",
       "    <tr>\n",
       "      <th>Z51.11</th>\n",
       "      <td>Encounter for antineoplastic chemotherapy</td>\n",
       "    </tr>\n",
       "    <tr>\n",
       "      <th>R07.9</th>\n",
       "      <td>Chest pain</td>\n",
       "    </tr>\n",
       "    <tr>\n",
       "      <th>M54.16</th>\n",
       "      <td>Radiculopathy, lumbar region</td>\n",
       "    </tr>\n",
       "    <tr>\n",
       "      <th>E11.65</th>\n",
       "      <td>Type 2 diabetes mellitus with hyperglycemia</td>\n",
       "    </tr>\n",
       "    <tr>\n",
       "      <th>J20.9</th>\n",
       "      <td>Acute bronchitis</td>\n",
       "    </tr>\n",
       "    <tr>\n",
       "      <th>E11.9</th>\n",
       "      <td>Type 2 diabetes mellitus without complications</td>\n",
       "    </tr>\n",
       "    <tr>\n",
       "      <th>I10</th>\n",
       "      <td>Essential (primary) hypertension</td>\n",
       "    </tr>\n",
       "    <tr>\n",
       "      <th>I25.10</th>\n",
       "      <td>Atherosclerotic heart disease of native corona...</td>\n",
       "    </tr>\n",
       "    <tr>\n",
       "      <th>F33.2</th>\n",
       "      <td>Major depressive disorder, recurrent, moderate</td>\n",
       "    </tr>\n",
       "    <tr>\n",
       "      <th>I25.2</th>\n",
       "      <td>Old myocardial infarction</td>\n",
       "    </tr>\n",
       "    <tr>\n",
       "      <th>M25.562</th>\n",
       "      <td>Pain in left knee</td>\n",
       "    </tr>\n",
       "    <tr>\n",
       "      <th>Z30.42</th>\n",
       "      <td>Encounter for elective termination of pregnancy</td>\n",
       "    </tr>\n",
       "    <tr>\n",
       "      <th>C61</th>\n",
       "      <td>Malignant neoplasm of prostate</td>\n",
       "    </tr>\n",
       "    <tr>\n",
       "      <th>R07.8</th>\n",
       "      <td>Other chest pain</td>\n",
       "    </tr>\n",
       "    <tr>\n",
       "      <th>M17.11</th>\n",
       "      <td>Unilateral primary osteoarthritis, right knee</td>\n",
       "    </tr>\n",
       "    <tr>\n",
       "      <th>G89.4</th>\n",
       "      <td>Chronic pain syndrome</td>\n",
       "    </tr>\n",
       "    <tr>\n",
       "      <th>R10.9</th>\n",
       "      <td>Unspecified abdominal pain</td>\n",
       "    </tr>\n",
       "    <tr>\n",
       "      <th>J44.1</th>\n",
       "      <td>Chronic obstructive pulmonary disease with (ac...</td>\n",
       "    </tr>\n",
       "  </tbody>\n",
       "</table>\n",
       "</div>"
      ],
      "text/plain": [
       "                                                     value\n",
       "N18.6                 Chronic kidney disease (CKD) stage 5\n",
       "Z51.11           Encounter for antineoplastic chemotherapy\n",
       "R07.9                                           Chest pain\n",
       "M54.16                        Radiculopathy, lumbar region\n",
       "E11.65         Type 2 diabetes mellitus with hyperglycemia\n",
       "J20.9                                     Acute bronchitis\n",
       "E11.9       Type 2 diabetes mellitus without complications\n",
       "I10                       Essential (primary) hypertension\n",
       "I25.10   Atherosclerotic heart disease of native corona...\n",
       "F33.2       Major depressive disorder, recurrent, moderate\n",
       "I25.2                            Old myocardial infarction\n",
       "M25.562                                  Pain in left knee\n",
       "Z30.42     Encounter for elective termination of pregnancy\n",
       "C61                         Malignant neoplasm of prostate\n",
       "R07.8                                     Other chest pain\n",
       "M17.11       Unilateral primary osteoarthritis, right knee\n",
       "G89.4                                Chronic pain syndrome\n",
       "R10.9                           Unspecified abdominal pain\n",
       "J44.1    Chronic obstructive pulmonary disease with (ac..."
      ]
     },
     "execution_count": 38,
     "metadata": {},
     "output_type": "execute_result"
    }
   ],
   "source": [
    "diagnosis_code_names_dict = {'N18.6':'Chronic kidney disease (CKD) stage 5'\n",
    ",'Z51.11':'Encounter for antineoplastic chemotherapy'\n",
    ",'R07.9':'Chest pain'\n",
    ",'M54.16':'Radiculopathy, lumbar region'\n",
    ",'E11.65':'Type 2 diabetes mellitus with hyperglycemia'\n",
    ",'J20.9':'Acute bronchitis'\n",
    ",'E11.9':'Type 2 diabetes mellitus without complications'\n",
    ",'I10':'Essential (primary) hypertension'\n",
    ",'I25.10':'Atherosclerotic heart disease of native coronary artery without angina pectoris'\n",
    ",'F33.2':'Major depressive disorder, recurrent, moderate'\n",
    ",'I25.2':'Old myocardial infarction'\n",
    ",'M25.562':'Pain in left knee'\n",
    ",'Z30.42':'Encounter for elective termination of pregnancy'\n",
    ",'C61':'Malignant neoplasm of prostate'\n",
    ",'R07.8':'Other chest pain'\n",
    ",'M17.11':'Unilateral primary osteoarthritis, right knee'\n",
    ",'G89.4':'Chronic pain syndrome'\n",
    ",'R10.9':'Unspecified abdominal pain'\n",
    ",'J44.1':'Chronic obstructive pulmonary disease with (acute) exacerbation'}\n",
    "\n",
    "transposed_data = {k: [v] for k, v in diagnosis_code_names_dict.items()}\n",
    "\n",
    "# Create a DataFrame from the transposed dictionary\n",
    "diagnosis_code_names = pd.DataFrame.from_dict(diagnosis_code_names_dict, orient='index', columns=['value'])\n",
    "\n",
    "# Print the DataFrame\n",
    "diagnosis_code_names"
   ]
  },
  {
   "cell_type": "markdown",
   "id": "5d20354e-12c5-455f-9fe3-77cc5bc184a0",
   "metadata": {},
   "source": [
    "### **Exploratory Data Analysis & Additional Insights**\n",
    "Performed on the original data to understand the distribution better\n",
    "### Bar Chart \n",
    "- To check the distribution/Volume of the diagnosis in original & ozempic data\n",
    "- Dataset : contains billing information from _**January 2019 to september 2023**_\n",
    "- _**Year over year**_ trend of ozempic drug authorisation, We see a gradual increase in usage of ozempic over the years. (2023 data is only uptil september, remaining 3 months data would definitely confirm the gradual increase in drug usage)\n",
    "- Original Dataset w.r.t Gender ( F : 58% || M : 41% ) || ozempic dataset ( F : 59% || M : 40% ) both have slightly high number of female patients, which is imbalanced dataset\n",
    "- Imbalanced dataset Challenge :\n",
    "    - models may struggle to accurately predict minority classes if they are underrepresented in the dataset\n",
    "    - Bias: An imbalanced age distribution can introduce bias in the analysis. For example, if one age group is disproportionately represented, it could skew the results of the analysis or model towards that age group.\n",
    "- Remedies :\n",
    "    - Oversampling or undersampling to balance the dataset.\n",
    "    - Using algorithms that are less sensitive to class imbalance, such as support vector machines with class weights or tree-based algorithms.\n",
    "- Ozempic dataset doe not have data on AE - Armed Forces Europe & AK - Alaska states\n",
    "- VISIT TYPE : Most Females are preffer getting a home visit\n",
    "- CORRELATION CHART : There's no high correlation between the continuous/encoded variables & proc_units\n",
    "- Age vs proc_units : beacause of more number of patients between 50 to 65, it might seem as though this age bracket is getting higher doses, but this could be due to imbalance in the dataset\n",
    "- Almost most of the patients treated with ozempic are from california (top 6 zip codes belong to california)"
   ]
  },
  {
   "cell_type": "markdown",
   "id": "63ad80c3-b2a8-405e-b4f1-bbbdd1056d2f",
   "metadata": {},
   "source": [
    "#### TOP 5 DIAGNOSIS CODES BY FREQUENCY IN ENTIRE DATASET \n",
    "- I10 : Essential (primary) hypertension\n",
    "- Z00.00 : general adult medical exam w/o abnormal findings\n",
    "- E119 : Type 2 diabetes mellitus without complications\n",
    "- E1165 : Type 2 diabetes mellitus with hyperglycemia\n",
    "- Z0001 : general adult medical exam w abnormal findings"
   ]
  },
  {
   "cell_type": "code",
   "execution_count": 39,
   "id": "accd0fcf-21fa-4b60-8d1c-ddb7cda892f2",
   "metadata": {},
   "outputs": [
    {
     "data": {
      "image/png": "[encoded data removed]",
      "text/plain": [
       "<Figure size 1400x800 with 1 Axes>"
      ]
     },
     "metadata": {},
     "output_type": "display_data"
    }
   ],
   "source": [
    "import pandas as pd\n",
    "import matplotlib.pyplot as plt\n",
    "\n",
    "# Get the counts for each diagnosis\n",
    "counts = medical_df['diag_1'].value_counts()\n",
    "filtered_counts = counts[counts > 5000]\n",
    "\n",
    "# Plot the counts\n",
    "fig, ax = plt.subplots(figsize=(14, 8))\n",
    "ax = filtered_counts.plot(kind='bar', title=\"Diagnosis Volume Chart\", ax=ax)\n",
    "ax.set_xlabel(\"diag_1\")\n",
    "ax.set_ylabel(\"Frequency\")\n",
    "\n",
    "# Calculate percentages and display on the bars\n",
    "for i, val in enumerate(filtered_counts):\n",
    "    ax.text(i, val + 0.5, f\"{(val / len(medical_df)):.2%}\", ha='center')\n",
    "\n",
    "plt.show()\n"
   ]
  },
  {
   "cell_type": "markdown",
   "id": "67fcb77c-3e24-4f89-a930-a0434f600dfc",
   "metadata": {},
   "source": [
    "#### TOP 5 DIAGNOSIS CODES BY FREQUENCY IN OZEMPIC DATASET \n",
    "- N186: End stage renal disease\n",
    "- Z5111 : antineoplastic chemotherapy\n",
    "- R079 : Chest pain, unspecified\n",
    "- M5416 : Radiculopathy, lumbar region\n",
    "- E1165 : Type 2 diabetes mellitus with hyperglycemia"
   ]
  },
  {
   "cell_type": "code",
   "execution_count": 40,
   "id": "8334f12e-1bde-4cfe-bd84-4242c1957a27",
   "metadata": {},
   "outputs": [
    {
     "data": {
      "image/png": "[encoded data removed]",
      "text/plain": [
       "<Figure size 1400x800 with 1 Axes>"
      ]
     },
     "metadata": {},
     "output_type": "display_data"
    }
   ],
   "source": [
    "import pandas as pd\n",
    "import matplotlib.pyplot as plt\n",
    "\n",
    "# Get the counts for each diagnosis\n",
    "counts = ozempic_medical_df['diag_1'].value_counts()\n",
    "filtered_counts = counts[counts > 5]\n",
    "\n",
    "# Plot the counts\n",
    "fig, ax = plt.subplots(figsize=(14, 8))\n",
    "ax = filtered_counts.plot(kind='bar', title=\"Diagnosis Volume Chart\", ax=ax)\n",
    "ax.set_xlabel(\"diag_1\")\n",
    "ax.set_ylabel(\"Frequency\")\n",
    "\n",
    "# Calculate percentages and display on the bars\n",
    "for i, val in enumerate(filtered_counts):\n",
    "    ax.text(i, val + 0.5, f\"{(val / len(ozempic_medical_df)):.2%}\", ha='center')\n",
    "\n",
    "plt.show()\n"
   ]
  },
  {
   "cell_type": "code",
   "execution_count": 41,
   "id": "e61b1f78-eecb-436b-9dce-e9b6919e6851",
   "metadata": {},
   "outputs": [
    {
     "name": "stdout",
     "output_type": "stream",
     "text": [
      "Max Year-Month: 2023-09\n",
      "Min Year-Month: 2019-01\n"
     ]
    }
   ],
   "source": [
    "## Dataset : contains billing information from January 2019 to september 2023\n",
    "ozempic_medical_df['claim_date'] = pd.to_datetime(ozempic_medical_df['claim_date'])\n",
    "\n",
    "# Extract max and min year-month\n",
    "max_year_month = ozempic_medical_df['claim_date'].dt.to_period('M').max()\n",
    "min_year_month = ozempic_medical_df['claim_date'].dt.to_period('M').min()\n",
    "\n",
    "print(\"Max Year-Month:\", max_year_month)\n",
    "print(\"Min Year-Month:\", min_year_month)"
   ]
  },
  {
   "cell_type": "markdown",
   "id": "59050616-8d1a-4ceb-b5b1-78e26caab85e",
   "metadata": {},
   "source": [
    "#### We see a gradual increase in usage of ozempic over the years. (2023 data is only uptil september, remaining 3 months data would definitely confirm the gradual increase in drug usage)"
   ]
  },
  {
   "cell_type": "code",
   "execution_count": 42,
   "id": "e8445fbe-bb62-4938-92b4-6c395bf6dad9",
   "metadata": {},
   "outputs": [
    {
     "data": {
      "image/png": "[encoded data removed]",
      "text/plain": [
       "<Figure size 1400x800 with 1 Axes>"
      ]
     },
     "metadata": {},
     "output_type": "display_data"
    }
   ],
   "source": [
    "import pandas as pd\n",
    "import matplotlib.pyplot as plt\n",
    "\n",
    "# Convert claim_date to datetime format\n",
    "ozempic_medical_df['claim_date'] = pd.to_datetime(ozempic_medical_df['claim_date'])\n",
    "\n",
    "# Get the counts for each year\n",
    "counts = ozempic_medical_df['claim_date'].dt.year.value_counts().sort_index()\n",
    "\n",
    "# Plot the counts\n",
    "fig, ax = plt.subplots(figsize=(14, 8))\n",
    "ax = counts.plot(kind='bar', title=\"claim_date Volume Chart\", ax=ax)\n",
    "ax.set_xlabel(\"claim_date (Year)\")\n",
    "ax.set_ylabel(\"Frequency\")\n",
    "\n",
    "# Calculate percentages and display on the bars\n",
    "total_entries = len(ozempic_medical_df)\n",
    "for i, val in enumerate(counts):\n",
    "    ax.text(i, val + 0.5, f\"{(val / total_entries):.2%}\", ha='center')\n",
    "\n",
    "plt.show()\n"
   ]
  },
  {
   "cell_type": "code",
   "execution_count": 43,
   "id": "490d652c-4bb9-45d3-9b2c-46c7c5725c11",
   "metadata": {},
   "outputs": [
    {
     "data": {
      "image/png": "[encoded data removed]",
      "text/plain": [
       "<Figure size 1000x1500 with 4 Axes>"
      ]
     },
     "metadata": {},
     "output_type": "display_data"
    }
   ],
   "source": [
    "### No seasonal trends in the data\n",
    "import pandas as pd\n",
    "import matplotlib.pyplot as plt\n",
    "import numpy as np\n",
    "import calendar\n",
    "\n",
    "# Convert claim_date to datetime format\n",
    "ozempic_medical_df['claim_date'] = pd.to_datetime(ozempic_medical_df['claim_date'])\n",
    "\n",
    "# Extract the year from the claim_date and create a new column named 'year'\n",
    "ozempic_medical_df['year'] = ozempic_medical_df['claim_date'].dt.year\n",
    "\n",
    "# Group the data by 'year' and 'claim_date' to calculate frequency\n",
    "monthly_counts = ozempic_medical_df.groupby(['year', ozempic_medical_df['claim_date'].dt.month.rename('month')]).size().unstack(fill_value=0)\n",
    "\n",
    "# Plot month-wise frequency bar plots for each year\n",
    "fig, axes = plt.subplots(len(monthly_counts), 1, figsize=(10, 15), sharex=True)\n",
    "fig.subplots_adjust(hspace=0.3)\n",
    "\n",
    "for i, (year, data) in enumerate(monthly_counts.iterrows(), start=0):\n",
    "    ax = axes[i]\n",
    "    data.plot(kind='bar', ax=ax, title=f\"{year}\", rot=0)\n",
    "    ax.set_ylabel(\"Frequency\")\n",
    "    \n",
    "    # Calculate the mean frequency across all years for each month\n",
    "    monthly_mean = monthly_counts.mean()\n",
    "    # Plot the trend line\n",
    "    ax.plot(monthly_mean.index, monthly_mean.values, marker='o', linestyle='-', color='r', label='Mean')\n",
    "    \n",
    "    # Modify x-axis tick labels to use abbreviated month names\n",
    "    ax.set_xticklabels([calendar.month_abbr[m] for m in data.index], rotation=45)\n",
    "\n",
    "plt.xlabel(\"Month\")\n",
    "plt.legend(loc='upper right')\n",
    "plt.show()\n",
    "\n"
   ]
  },
  {
   "cell_type": "code",
   "execution_count": 44,
   "id": "9ca46469-cf81-4d76-a01c-3ee5dfb216d3",
   "metadata": {},
   "outputs": [
    {
     "data": {
      "text/html": [
       "<div>\n",
       "<style scoped>\n",
       "    .dataframe tbody tr th:only-of-type {\n",
       "        vertical-align: middle;\n",
       "    }\n",
       "\n",
       "    .dataframe tbody tr th {\n",
       "        vertical-align: top;\n",
       "    }\n",
       "\n",
       "    .dataframe thead th {\n",
       "        text-align: right;\n",
       "    }\n",
       "</style>\n",
       "<table border=\"1\" class=\"dataframe\">\n",
       "  <thead>\n",
       "    <tr style=\"text-align: right;\">\n",
       "      <th></th>\n",
       "      <th>patient_state</th>\n",
       "      <th>patient_gender</th>\n",
       "      <th>count</th>\n",
       "      <th>gender_percentage</th>\n",
       "    </tr>\n",
       "  </thead>\n",
       "  <tbody>\n",
       "    <tr>\n",
       "      <th>0</th>\n",
       "      <td>AL</td>\n",
       "      <td>F</td>\n",
       "      <td>2</td>\n",
       "      <td>100.00</td>\n",
       "    </tr>\n",
       "    <tr>\n",
       "      <th>1</th>\n",
       "      <td>AZ</td>\n",
       "      <td>F</td>\n",
       "      <td>6</td>\n",
       "      <td>40.00</td>\n",
       "    </tr>\n",
       "    <tr>\n",
       "      <th>2</th>\n",
       "      <td>AZ</td>\n",
       "      <td>M</td>\n",
       "      <td>9</td>\n",
       "      <td>60.00</td>\n",
       "    </tr>\n",
       "    <tr>\n",
       "      <th>3</th>\n",
       "      <td>CA</td>\n",
       "      <td>F</td>\n",
       "      <td>251</td>\n",
       "      <td>57.44</td>\n",
       "    </tr>\n",
       "    <tr>\n",
       "      <th>4</th>\n",
       "      <td>CA</td>\n",
       "      <td>M</td>\n",
       "      <td>186</td>\n",
       "      <td>42.56</td>\n",
       "    </tr>\n",
       "  </tbody>\n",
       "</table>\n",
       "</div>"
      ],
      "text/plain": [
       "  patient_state patient_gender  count  gender_percentage\n",
       "0            AL              F      2             100.00\n",
       "1            AZ              F      6              40.00\n",
       "2            AZ              M      9              60.00\n",
       "3            CA              F    251              57.44\n",
       "4            CA              M    186              42.56"
      ]
     },
     "execution_count": 44,
     "metadata": {},
     "output_type": "execute_result"
    }
   ],
   "source": [
    "# data filtered for ozempic procedure does not hav any information on drug administration in the States - AE - Armed Forces Europe & AK - Alaska\n",
    "patients_gender_cnt = ozempic_medical_df.groupby(['patient_state', 'patient_gender'])['journey_id'].nunique().reset_index(name = 'count')\n",
    "total_cnt = patients_gender_cnt.groupby('patient_state')['count'].transform('sum')\n",
    "patients_gender_cnt['gender_percentage'] = round((patients_gender_cnt['count']/total_cnt),4)*100\n",
    "patients_gender_cnt\n"
   ]
  },
  {
   "cell_type": "code",
   "execution_count": 45,
   "id": "8a346db2-061d-4576-ab5c-23e681fd5ca4",
   "metadata": {},
   "outputs": [
    {
     "data": {
      "text/plain": [
       "patient_gender\n",
       "F    58.95\n",
       "M    41.02\n",
       "Name: count, dtype: float64"
      ]
     },
     "execution_count": 45,
     "metadata": {},
     "output_type": "execute_result"
    }
   ],
   "source": [
    "round((medical_df['patient_gender'].value_counts()/len(medical_df)*100),2)"
   ]
  },
  {
   "cell_type": "code",
   "execution_count": 46,
   "id": "0706895f-5907-46f6-a19b-63c9fdf270e9",
   "metadata": {},
   "outputs": [
    {
     "data": {
      "text/plain": [
       "patient_gender\n",
       "F    59.29\n",
       "M    40.71\n",
       "Name: count, dtype: float64"
      ]
     },
     "execution_count": 46,
     "metadata": {},
     "output_type": "execute_result"
    }
   ],
   "source": [
    "round((ozempic_medical_df['patient_gender'].value_counts()/len(ozempic_medical_df)*100),2)"
   ]
  },
  {
   "cell_type": "code",
   "execution_count": 47,
   "id": "aa5ae834-c09b-43b0-b6b9-783a4fdc406d",
   "metadata": {},
   "outputs": [
    {
     "data": {
      "image/png": "[encoded data removed]",
      "text/plain": [
       "<Figure size 600x400 with 1 Axes>"
      ]
     },
     "metadata": {},
     "output_type": "display_data"
    }
   ],
   "source": [
    "import seaborn as sns\n",
    "\n",
    "# Create a stacked bar chart\n",
    "plt.figure(figsize=(6, 4))\n",
    "sns.barplot(x='patient_state', y='proc_units', hue='patient_gender', data=ozempic_medical_df, estimator='mean', errorbar=None)\n",
    "\n",
    "# Add labels and title\n",
    "plt.xlabel('patient state')\n",
    "plt.ylabel('Total procedure units')\n",
    "plt.title('Stacked Bar Chart of proc_units Based on patient_state and patient_gender')\n",
    "\n",
    "plt.show()\n"
   ]
  },
  {
   "cell_type": "code",
   "execution_count": 48,
   "id": "fda210bc-3a2f-4232-aa59-b50371ed3370",
   "metadata": {},
   "outputs": [
    {
     "data": {
      "image/png": "[encoded data removed]",
      "text/plain": [
       "<Figure size 800x600 with 1 Axes>"
      ]
     },
     "metadata": {},
     "output_type": "display_data"
    }
   ],
   "source": [
    "import seaborn as sns\n",
    "\n",
    "# Create a stacked bar chart\n",
    "plt.figure(figsize=(8, 6))\n",
    "sns.barplot(x='visit_type', y='proc_units', hue='patient_gender', data=ozempic_medical_df, estimator='mean', errorbar=None)\n",
    "plt.xticks(rotation=45)\n",
    "# Add labels and title\n",
    "plt.xlabel('patient state')\n",
    "plt.ylabel('Total procedure units')\n",
    "plt.title('Stacked Bar Chart of proc_units Based on patient_state and patient_gender')\n",
    "\n",
    "plt.show()\n"
   ]
  },
  {
   "cell_type": "code",
   "execution_count": 49,
   "id": "85f3cab3-e6c2-489a-aac5-1355999c5c77",
   "metadata": {},
   "outputs": [
    {
     "name": "stdout",
     "output_type": "stream",
     "text": [
      "Number of records with proc_units > 60: 49\n"
     ]
    }
   ],
   "source": [
    "count_units_gt_60 = ozempic_medical_df['proc_units'][ozempic_medical_df['proc_units'] > 10].count()\n",
    "print(\"Number of records with proc_units > 60:\", count_units_gt_60)"
   ]
  },
  {
   "cell_type": "code",
   "execution_count": 50,
   "id": "adc3e9de-be08-4729-8e02-3d8dc7f89af8",
   "metadata": {},
   "outputs": [
    {
     "name": "stderr",
     "output_type": "stream",
     "text": [
      "/Library/Frameworks/Python.framework/Versions/3.11/lib/python3.11/site-packages/pandas/core/arraylike.py:396: RuntimeWarning: divide by zero encountered in log\n",
      "  result = getattr(ufunc, method)(*inputs, **kwargs)\n"
     ]
    },
    {
     "data": {
      "image/png": "[encoded data removed]",
      "text/plain": [
       "<Figure size 800x400 with 1 Axes>"
      ]
     },
     "metadata": {},
     "output_type": "display_data"
    }
   ],
   "source": [
    "# Scatter plot for patient_age vs. patient_age\n",
    "# 50 to 65 age patients are authorised higher doses of ozempic\n",
    "# beacause of more number of patients between 50 to 65, it might seem as though this age bracket is getting higher doses, but this could be due to imbalance in the dataset\n",
    "\n",
    "plt.figure(figsize=(8, 4))\n",
    "plt.scatter(ozempic_medical_df['patient_age'], np.log(ozempic_medical_df['proc_units'])) # Applying log to standardise the results on x scale and get a better picture of the data\n",
    "plt.title(\"Scatter plot of patient_age vs. proc_units\")\n",
    "plt.xlabel(\"patient_age\")\n",
    "plt.ylabel(\"log proc_units\")\n",
    "plt.show()"
   ]
  },
  {
   "cell_type": "code",
   "execution_count": 51,
   "id": "204af28a-b65d-47da-b094-3f5632661c89",
   "metadata": {},
   "outputs": [
    {
     "data": {
      "image/png": "[encoded data removed]",
      "text/plain": [
       "<Figure size 800x400 with 1 Axes>"
      ]
     },
     "metadata": {},
     "output_type": "display_data"
    }
   ],
   "source": [
    "### Almost most of the patients treated with ozempic are from california (top 6 zip codes belong to california)\n",
    "zip_count = ozempic_medical_df['patient_short_zip'].value_counts()\n",
    "\n",
    "# Plotting\n",
    "zip_count.plot(kind='bar', figsize=(8, 4))\n",
    "plt.title('Count of Patient Zip Code')\n",
    "plt.xlabel('Zip Code')\n",
    "plt.ylabel('Count')\n",
    "plt.xticks(rotation=45, ha='right')\n",
    "plt.tight_layout()\n",
    "plt.show()"
   ]
  },
  {
   "cell_type": "markdown",
   "id": "1ad1b32a-82b3-4f18-b1f4-5424fb8957fd",
   "metadata": {},
   "source": [
    "### Correlation Matrix - all variables(X) with diagnosis (Y)\n",
    "- Creating dummy variables for visit type ; return type is boolean(True , False), so unsing type cast to convert the result into int (1 , 0)"
   ]
  },
  {
   "cell_type": "code",
   "execution_count": 52,
   "id": "1b8f1476-6f46-4819-a71b-0657d8d995d6",
   "metadata": {},
   "outputs": [
    {
     "data": {
      "text/html": [
       "<div>\n",
       "<style scoped>\n",
       "    .dataframe tbody tr th:only-of-type {\n",
       "        vertical-align: middle;\n",
       "    }\n",
       "\n",
       "    .dataframe tbody tr th {\n",
       "        vertical-align: top;\n",
       "    }\n",
       "\n",
       "    .dataframe thead th {\n",
       "        text-align: right;\n",
       "    }\n",
       "</style>\n",
       "<table border=\"1\" class=\"dataframe\">\n",
       "  <thead>\n",
       "    <tr style=\"text-align: right;\">\n",
       "      <th></th>\n",
       "      <th>journey_id</th>\n",
       "      <th>episode_id</th>\n",
       "      <th>visit_id</th>\n",
       "      <th>encounter_id</th>\n",
       "      <th>claim_date</th>\n",
       "      <th>patient_state</th>\n",
       "      <th>patient_short_zip</th>\n",
       "      <th>patient_age</th>\n",
       "      <th>patient_gender</th>\n",
       "      <th>place_of_service</th>\n",
       "      <th>...</th>\n",
       "      <th>line_charge</th>\n",
       "      <th>claim_charge</th>\n",
       "      <th>smart_allowed</th>\n",
       "      <th>year</th>\n",
       "      <th>visit_type_ambulance visit</th>\n",
       "      <th>visit_type_home visit</th>\n",
       "      <th>visit_type_inpatient visit</th>\n",
       "      <th>visit_type_laboratory visit</th>\n",
       "      <th>visit_type_non-hospital institution visit</th>\n",
       "      <th>visit_type_outpatient visit</th>\n",
       "    </tr>\n",
       "  </thead>\n",
       "  <tbody>\n",
       "    <tr>\n",
       "      <th>0</th>\n",
       "      <td>000450be3d71b0ec84e8e6edf40aadfa</td>\n",
       "      <td>d6f7433d88f652d21ec4785213d9d6d6</td>\n",
       "      <td>9834663a4e711e9a3d177f920af74f88109c3d1e7ebd90...</td>\n",
       "      <td>105f4acb7474e5566edcd206e4440c66904940b0663c0a...</td>\n",
       "      <td>2022-02-22</td>\n",
       "      <td>CA</td>\n",
       "      <td>921.0</td>\n",
       "      <td>65.0</td>\n",
       "      <td>F</td>\n",
       "      <td>UNKNOWN</td>\n",
       "      <td>...</td>\n",
       "      <td>7.2</td>\n",
       "      <td>7.2</td>\n",
       "      <td>343.99</td>\n",
       "      <td>2022</td>\n",
       "      <td>0</td>\n",
       "      <td>0</td>\n",
       "      <td>0</td>\n",
       "      <td>0</td>\n",
       "      <td>0</td>\n",
       "      <td>1</td>\n",
       "    </tr>\n",
       "    <tr>\n",
       "      <th>1</th>\n",
       "      <td>000f72e2fe46f4f45744f3a7f64894ce</td>\n",
       "      <td>5d98f1c8547ab6d9d011d0af82075dd1</td>\n",
       "      <td>2933e3a18ce67fcfdea4cf7325cb08a3c5b18838ff00cf...</td>\n",
       "      <td>4bc39aef0830e76dab96d91f0670cce3b6952bb656927d...</td>\n",
       "      <td>2023-06-02</td>\n",
       "      <td>CA</td>\n",
       "      <td>921.0</td>\n",
       "      <td>40.0</td>\n",
       "      <td>F</td>\n",
       "      <td>Office</td>\n",
       "      <td>...</td>\n",
       "      <td>5.0</td>\n",
       "      <td>5.0</td>\n",
       "      <td>343.99</td>\n",
       "      <td>2023</td>\n",
       "      <td>0</td>\n",
       "      <td>0</td>\n",
       "      <td>0</td>\n",
       "      <td>0</td>\n",
       "      <td>0</td>\n",
       "      <td>1</td>\n",
       "    </tr>\n",
       "    <tr>\n",
       "      <th>2</th>\n",
       "      <td>000f72e2fe46f4f45744f3a7f64894ce</td>\n",
       "      <td>5d98f1c8547ab6d9d011d0af82075dd1</td>\n",
       "      <td>4edb9cf9f5b7729d5a7e92da5c5a34cd98a5a65079c210...</td>\n",
       "      <td>009e00ca9a6481a7a00528ea05d02ec36665e6c18ac677...</td>\n",
       "      <td>2023-03-31</td>\n",
       "      <td>CA</td>\n",
       "      <td>921.0</td>\n",
       "      <td>40.0</td>\n",
       "      <td>F</td>\n",
       "      <td>Office</td>\n",
       "      <td>...</td>\n",
       "      <td>5.0</td>\n",
       "      <td>5.0</td>\n",
       "      <td>343.99</td>\n",
       "      <td>2023</td>\n",
       "      <td>0</td>\n",
       "      <td>0</td>\n",
       "      <td>0</td>\n",
       "      <td>0</td>\n",
       "      <td>0</td>\n",
       "      <td>1</td>\n",
       "    </tr>\n",
       "    <tr>\n",
       "      <th>3</th>\n",
       "      <td>000f72e2fe46f4f45744f3a7f64894ce</td>\n",
       "      <td>5d98f1c8547ab6d9d011d0af82075dd1</td>\n",
       "      <td>49958f367eaf1cc03f642ee5bc445c6ca3dc54978cb630...</td>\n",
       "      <td>254475ba0759ea013a6a699e5d55eb7de848bbd1671c94...</td>\n",
       "      <td>2023-06-16</td>\n",
       "      <td>CA</td>\n",
       "      <td>921.0</td>\n",
       "      <td>40.0</td>\n",
       "      <td>F</td>\n",
       "      <td>Office</td>\n",
       "      <td>...</td>\n",
       "      <td>30.0</td>\n",
       "      <td>30.0</td>\n",
       "      <td>343.99</td>\n",
       "      <td>2023</td>\n",
       "      <td>0</td>\n",
       "      <td>0</td>\n",
       "      <td>0</td>\n",
       "      <td>0</td>\n",
       "      <td>0</td>\n",
       "      <td>1</td>\n",
       "    </tr>\n",
       "    <tr>\n",
       "      <th>4</th>\n",
       "      <td>0012fd7f7c19414e99dd240c9b4b1952</td>\n",
       "      <td>14798cad0694a0353daef6c1184ebb21</td>\n",
       "      <td>d07de1c29e2805819a86841cf96760aaaad3aac48ea17c...</td>\n",
       "      <td>ec64f956755be1fcd4285a00cdaa62beb0fc657026bc38...</td>\n",
       "      <td>2022-11-02</td>\n",
       "      <td>CA</td>\n",
       "      <td>911.0</td>\n",
       "      <td>70.0</td>\n",
       "      <td>F</td>\n",
       "      <td>UNKNOWN</td>\n",
       "      <td>...</td>\n",
       "      <td>124.0</td>\n",
       "      <td>124.0</td>\n",
       "      <td>343.99</td>\n",
       "      <td>2022</td>\n",
       "      <td>0</td>\n",
       "      <td>0</td>\n",
       "      <td>0</td>\n",
       "      <td>0</td>\n",
       "      <td>0</td>\n",
       "      <td>1</td>\n",
       "    </tr>\n",
       "  </tbody>\n",
       "</table>\n",
       "<p>5 rows × 39 columns</p>\n",
       "</div>"
      ],
      "text/plain": [
       "                         journey_id                        episode_id  \\\n",
       "0  000450be3d71b0ec84e8e6edf40aadfa  d6f7433d88f652d21ec4785213d9d6d6   \n",
       "1  000f72e2fe46f4f45744f3a7f64894ce  5d98f1c8547ab6d9d011d0af82075dd1   \n",
       "2  000f72e2fe46f4f45744f3a7f64894ce  5d98f1c8547ab6d9d011d0af82075dd1   \n",
       "3  000f72e2fe46f4f45744f3a7f64894ce  5d98f1c8547ab6d9d011d0af82075dd1   \n",
       "4  0012fd7f7c19414e99dd240c9b4b1952  14798cad0694a0353daef6c1184ebb21   \n",
       "\n",
       "                                            visit_id  \\\n",
       "0  9834663a4e711e9a3d177f920af74f88109c3d1e7ebd90...   \n",
       "1  2933e3a18ce67fcfdea4cf7325cb08a3c5b18838ff00cf...   \n",
       "2  4edb9cf9f5b7729d5a7e92da5c5a34cd98a5a65079c210...   \n",
       "3  49958f367eaf1cc03f642ee5bc445c6ca3dc54978cb630...   \n",
       "4  d07de1c29e2805819a86841cf96760aaaad3aac48ea17c...   \n",
       "\n",
       "                                        encounter_id claim_date patient_state  \\\n",
       "0  105f4acb7474e5566edcd206e4440c66904940b0663c0a... 2022-02-22            CA   \n",
       "1  4bc39aef0830e76dab96d91f0670cce3b6952bb656927d... 2023-06-02            CA   \n",
       "2  009e00ca9a6481a7a00528ea05d02ec36665e6c18ac677... 2023-03-31            CA   \n",
       "3  254475ba0759ea013a6a699e5d55eb7de848bbd1671c94... 2023-06-16            CA   \n",
       "4  ec64f956755be1fcd4285a00cdaa62beb0fc657026bc38... 2022-11-02            CA   \n",
       "\n",
       "   patient_short_zip  patient_age patient_gender place_of_service  ...  \\\n",
       "0              921.0         65.0              F          UNKNOWN  ...   \n",
       "1              921.0         40.0              F           Office  ...   \n",
       "2              921.0         40.0              F           Office  ...   \n",
       "3              921.0         40.0              F           Office  ...   \n",
       "4              911.0         70.0              F          UNKNOWN  ...   \n",
       "\n",
       "  line_charge claim_charge smart_allowed  year visit_type_ambulance visit  \\\n",
       "0         7.2          7.2        343.99  2022                          0   \n",
       "1         5.0          5.0        343.99  2023                          0   \n",
       "2         5.0          5.0        343.99  2023                          0   \n",
       "3        30.0         30.0        343.99  2023                          0   \n",
       "4       124.0        124.0        343.99  2022                          0   \n",
       "\n",
       "  visit_type_home visit visit_type_inpatient visit  \\\n",
       "0                     0                          0   \n",
       "1                     0                          0   \n",
       "2                     0                          0   \n",
       "3                     0                          0   \n",
       "4                     0                          0   \n",
       "\n",
       "  visit_type_laboratory visit visit_type_non-hospital institution visit  \\\n",
       "0                           0                                         0   \n",
       "1                           0                                         0   \n",
       "2                           0                                         0   \n",
       "3                           0                                         0   \n",
       "4                           0                                         0   \n",
       "\n",
       "  visit_type_outpatient visit  \n",
       "0                           1  \n",
       "1                           1  \n",
       "2                           1  \n",
       "3                           1  \n",
       "4                           1  \n",
       "\n",
       "[5 rows x 39 columns]"
      ]
     },
     "execution_count": 52,
     "metadata": {},
     "output_type": "execute_result"
    }
   ],
   "source": [
    "# One-hot encoding\n",
    "ozempic_medical_df_encoded = pd.get_dummies(ozempic_medical_df, columns=['visit_type'], drop_first=True)\n",
    "\n",
    "# converting the encoded variables to integer type, by default they are of bool type\n",
    "ozempic_medical_df_encoded[['visit_type_ambulance visit', 'visit_type_home visit','visit_type_inpatient visit', 'visit_type_laboratory visit','visit_type_non-hospital institution visit',\n",
    "       'visit_type_outpatient visit']] = ozempic_medical_df_encoded[['visit_type_ambulance visit', 'visit_type_home visit','visit_type_inpatient visit', 'visit_type_laboratory visit',\n",
    "       'visit_type_non-hospital institution visit',\n",
    "       'visit_type_outpatient visit']].astype(int)\n",
    "\n",
    "ozempic_medical_df_encoded.head()\n",
    "# ozempic_medical_df_encoded.columns"
   ]
  },
  {
   "cell_type": "code",
   "execution_count": 53,
   "id": "99bf4f83-76cc-4148-8736-0060a0def686",
   "metadata": {},
   "outputs": [],
   "source": [
    "# Automating the correlation matrix , requires the df to have just the continuous columns. \n",
    "# Filtering just for the numeric datatypes and storing them in a new df\n",
    "continuous_columns = ozempic_medical_df.select_dtypes(include=['float64', 'int64']).columns\n",
    "ozempic_medical_df_continuous = ozempic_medical_df[continuous_columns]\n",
    "ozempic_medical_df_continuous=ozempic_medical_df_continuous.drop(columns=['proc_units'])"
   ]
  },
  {
   "cell_type": "code",
   "execution_count": 54,
   "id": "7b60cccf-3591-46e3-b83c-492bea69bca8",
   "metadata": {},
   "outputs": [],
   "source": [
    "# Automating the correlation matrix , requires the df to have just the continuous columns. \n",
    "# Filtering just for the numeric datatypes and storing them in a new df\n",
    "continuous_columns = ozempic_medical_df_encoded.select_dtypes(include=['float64', 'int64']).columns\n",
    "ozempic_medical_df_continuous = ozempic_medical_df_encoded[continuous_columns]\n",
    "ozempic_medical_df_continuous=ozempic_medical_df_continuous.drop(columns=['proc_units'])"
   ]
  },
  {
   "cell_type": "code",
   "execution_count": 55,
   "id": "0b094763-e56c-4555-ae81-e867a1b7d085",
   "metadata": {},
   "outputs": [
    {
     "data": {
      "text/plain": [
       "Text(0.5, 1.0, 'Correlation w.r.t proc_units')"
      ]
     },
     "execution_count": 55,
     "metadata": {},
     "output_type": "execute_result"
    },
    {
     "data": {
      "image/png": "[encoded data removed]",
      "text/plain": [
       "<Figure size 640x480 with 2 Axes>"
      ]
     },
     "metadata": {},
     "output_type": "display_data"
    }
   ],
   "source": [
    "## Calculating & conditional formating the correlation between all the continuous variables of the dataset vs diagnosis\n",
    "## There's no high correlation between the continuous/encoded variables & proc_units\n",
    "corr = ozempic_medical_df_continuous.corrwith(ozempic_medical_df_encoded['proc_units']).sort_values(ascending = False).to_frame() \n",
    "corr.columns = ['proc_units']\n",
    "sns.heatmap(corr,annot = True,cmap = 'RdYlGn',linewidths = 0.4,linecolor = 'black');\n",
    "plt.title('Correlation w.r.t proc_units')\n"
   ]
  },
  {
   "cell_type": "markdown",
   "id": "ad11630e-4ff3-45c9-8b5b-31fd60bbcd46",
   "metadata": {},
   "source": [
    "### Multicollinearity\n",
    "- claim charge & line charge are having VIF = inf , which means that they have perfect mullticollinearity (Removed claim_charge)\n",
    "- Patient age & zip code are having some collinearity (though it does not make sense theoretically, this could be due to small sample size)\n",
    "- to avoid our models from getting effected by this relationship, I'm removing zip as we have other columns like state to represent the geographic location of the patient"
   ]
  },
  {
   "cell_type": "code",
   "execution_count": 56,
   "id": "d9a6cc5b-3a13-4078-b23b-5f556bc5eaef",
   "metadata": {},
   "outputs": [],
   "source": [
    "# medical_df_int = medical_df.copy()\n",
    "ozempic_medical_df_int = ozempic_medical_df_continuous # dropping the dependent variable to check for multicollinearity within the X(independent variables)"
   ]
  },
  {
   "cell_type": "code",
   "execution_count": 57,
   "id": "77e5aa39-cf79-403f-a8cc-e2c31027ee69",
   "metadata": {},
   "outputs": [
    {
     "name": "stdout",
     "output_type": "stream",
     "text": [
      "                                     Variable        VIF\n",
      "0                           patient_short_zip  84.401380\n",
      "1                                 patient_age  38.583509\n",
      "2                            rev_center_units   3.547527\n",
      "3                                 line_charge        inf\n",
      "4                                claim_charge        inf\n",
      "5                               smart_allowed   1.964608\n",
      "6                  visit_type_ambulance visit   1.132482\n",
      "7                       visit_type_home visit   2.089828\n",
      "8                  visit_type_inpatient visit   1.183962\n",
      "9                 visit_type_laboratory visit   3.652651\n",
      "10  visit_type_non-hospital institution visit   1.062642\n",
      "11                visit_type_outpatient visit  38.673000\n"
     ]
    },
    {
     "name": "stderr",
     "output_type": "stream",
     "text": [
      "/Library/Frameworks/Python.framework/Versions/3.11/lib/python3.11/site-packages/statsmodels/stats/outliers_influence.py:198: RuntimeWarning: divide by zero encountered in scalar divide\n",
      "  vif = 1. / (1. - r_squared_i)\n"
     ]
    }
   ],
   "source": [
    "from statsmodels.stats.outliers_influence import variance_inflation_factor\n",
    "\n",
    "vif_data = pd.DataFrame()\n",
    "vif_data[\"Variable\"] = ozempic_medical_df_continuous.columns\n",
    "vif_data[\"VIF\"] = [variance_inflation_factor(ozempic_medical_df_continuous.values, i) for i in range(ozempic_medical_df_continuous.shape[1])]\n",
    "print(vif_data)"
   ]
  },
  {
   "cell_type": "code",
   "execution_count": 58,
   "id": "34583026-fd4f-499e-9bb4-9bd482078eec",
   "metadata": {},
   "outputs": [],
   "source": [
    "ozempic_medical_df_continuous = ozempic_medical_df_continuous.drop(columns=[ 'claim_charge','patient_short_zip']) "
   ]
  },
  {
   "cell_type": "markdown",
   "id": "3786933d-664d-4840-8e6c-106cc1cd5ae6",
   "metadata": {},
   "source": [
    "#### **Causal Analysis**\n",
    "1. Potential endogeneity issues in estimating the treatment effect of Ozempic on the target population.\n",
    "- Endogeneity : The causal effects of an intervention or treatment on an outcome. It occurs when there is a correlation between the treatment (or the explanatory variables) and the error term in the regression model, violating the assumption of exogeneity\n",
    "- Reverse Causality: Endogeneity can arise if the outcome variable (e.g., improvement in a medical condition) influences the treatment variable (Ozempic usage) instead of the other way around.\n",
    "we might get it the wrong way around. For example, let's say we want to know if using a medicine called Ozempic helps improve a health condition. The problem is, if people who already have more severe symptoms are the ones more likely to use Ozempic, it might look like Ozempic is helping, but it's really just that the sickest people were more likely to use it in the first place. That could make it seem like Ozempic is working better than it really is.\n",
    "- Selection Bias : people who decide to use a medicine might be different from those who don't use it. For example, maybe the ones who decide to use it are more motivated or have better access to healthcare. If these differences affect both whether someone decides to use the medicine and how well the medicine works, it could make the medicine seem more effective than it really is. This is because the people who are already more likely to improve their health could be the ones choosing to use the medicine in the first place.\n",
    "- Time-Varying Confounders : things might change over time in a way that affects both whether someone uses a medicine and how well it works. For example, let's say people start making healthier lifestyle choices or using other medicines that also help with their health condition at the same time as starting Ozempic. It could make it hard to know if the improvement is really because of Ozempic or these other changes happening at the same time. This can make it tricky to figure out if Ozempic is really making a difference or if it's just because of the other changes people are making.\n",
    "- Non-Compliance : when patients don't follow the instructions for how to take a medicine, it can make it hard to know if the medicine is really helping or not. For example, if someone is supposed to take Ozempic every day but they only take it once in a while, it can make it seem like Ozempic doesn't work as well as it really does. This is because the patient didn't follow the instructions, so it's not a fair test of how well the medicine works.\n",
    "\n",
    "2. Addressing endogeneity\n",
    "- **Randomized Controlled Trials (RCTs)**: This is considered the gold standard for estimating treatment effects as it eliminates most sources of endogeneity through random assignment of treatment. i.e helps ensure that the groups are generally comparable in all aspects except the treatment. Therefore, RCTs are less likely to have an unbalanced distribution of confounding variables, thus reducing the risk of Simpson's Paradox. (for experimental studies, we <u>cannot use RCT's as ours is an observational study</u>)\n",
    "\n",
    "##### `Addressing Endogeneity in observational Studies` like our current problem statement\n",
    "\n",
    "- **Identifying Confounders**\n",
    "    - when there is a variable that causes both X and Y . In this scenario, Z induces an association between X and Y  even if X does not cause Y. The true effect of X on Y  will not be correctly estimated if we do not account for the effect of any and all confounders Z\n",
    "    - If we are able to <u> identify and observe all confounders </u>, we should be able to remove their effects from the analysis and validly draw causal inferences.\n",
    "    - regress all the X on treatment variable to control for confounders\n",
    "    - Identify any <u> time trends </u>  in the data\n",
    "    - Once we control for time & factor counfounders, we will be left with gamma hat, which implies the change in Y with change in treatment ∐ X\n"
   ]
  },
  {
   "cell_type": "markdown",
   "id": "92be9234-4a37-417d-879b-3f4e4c8a363d",
   "metadata": {},
   "source": [
    "#### Double Lasso\n",
    "- used to identify which covariates have sufficient empirical support for inclusion in analyses of experimental interventions.\n",
    "\n",
    "Why not Lasso :\n",
    "- lasso-estimated coefficients that are actually non-zero are typically underestimated\n",
    "- lasso may mistakenly exclude variables with non-zero coefficients, particularly variables with moderate effects (omitted variable bias) which causes significant regularization bias that adversely affects estimation and inference about coefficients"
   ]
  },
  {
   "cell_type": "markdown",
   "id": "72081e94-02b9-4181-89c5-85bb92e30245",
   "metadata": {},
   "source": [
    "#### **Model Development** Double-Lasso / Treatment Effect Lasso"
   ]
  },
  {
   "cell_type": "code",
   "execution_count": 59,
   "id": "8017859c-7ad3-46d9-82b2-ab88d9a37a39",
   "metadata": {},
   "outputs": [],
   "source": [
    "#Make a new column OH which indicates whether someone was diagnosed with obesity or hypertension that day\n",
    "diag_columns = [col for col in medical_df.columns if col.startswith('diag_')]\n",
    "\n",
    "# Initialize column with 0\n",
    "medical_df['OH'] = 0\n",
    "\n",
    "# Looping through each diag column \n",
    "for col in diag_columns:\n",
    "    # Assign value to 'OH' according to diag columns. 1 if any diag column starts with 'E66' or 'I10', otherwise 0\n",
    "    medical_df['OH'] = np.where((medical_df[col].str.startswith('E66')) | (medical_df[col].str.startswith('I10')) | (medical_df['OH'] == 1), 1, 0)"
   ]
  },
  {
   "cell_type": "code",
   "execution_count": 60,
   "id": "a058eb50-d8df-471a-8143-9f803c1cdc4b",
   "metadata": {},
   "outputs": [],
   "source": [
    "#Make column d which indicates whether the patient was given ozempic\n",
    "medical_df['d'] = np.where(medical_df['proc_code'] == 'J3490',1,0) #'J3490' is the proc_code for ozempic\n"
   ]
  },
  {
   "cell_type": "markdown",
   "id": "3bb352c4-440c-45bf-82b9-976641951bc8",
   "metadata": {},
   "source": [
    "##### As we can see in the correlation matrix, there aren't any significant correlation between the variables in the medical dataset (no presence of multicolinearity)"
   ]
  },
  {
   "cell_type": "code",
   "execution_count": 61,
   "id": "8f00b44f-a3d9-42d2-aab0-3854b21655dc",
   "metadata": {},
   "outputs": [
    {
     "data": {
      "image/png": "[encoded data removed]",
      "text/plain": [
       "<Figure size 1000x800 with 2 Axes>"
      ]
     },
     "metadata": {},
     "output_type": "display_data"
    }
   ],
   "source": [
    "oh_df = medical_df[medical_df['OH'] == 1]\n",
    "numeric_cols= oh_df.select_dtypes(include=[np.number]).columns.tolist()\n",
    "\n",
    "plt.figure(figsize=(10, 8))\n",
    "sns.heatmap(oh_df[numeric_cols].corr(), annot=True, cmap='Blues', fmt='.2f')\n",
    "plt.title('Correlation Matrix')\n",
    "plt.show()"
   ]
  },
  {
   "cell_type": "code",
   "execution_count": 62,
   "id": "a5598936-c9e7-416b-ba20-bf4084cb93a5",
   "metadata": {},
   "outputs": [
    {
     "data": {
      "text/html": [
       "<div>\n",
       "<style scoped>\n",
       "    .dataframe tbody tr th:only-of-type {\n",
       "        vertical-align: middle;\n",
       "    }\n",
       "\n",
       "    .dataframe tbody tr th {\n",
       "        vertical-align: top;\n",
       "    }\n",
       "\n",
       "    .dataframe thead th {\n",
       "        text-align: right;\n",
       "    }\n",
       "</style>\n",
       "<table border=\"1\" class=\"dataframe\">\n",
       "  <thead>\n",
       "    <tr style=\"text-align: right;\">\n",
       "      <th></th>\n",
       "      <th>journey_id</th>\n",
       "      <th>claim_date</th>\n",
       "      <th>patient_state</th>\n",
       "      <th>patient_short_zip</th>\n",
       "      <th>patient_age</th>\n",
       "      <th>patient_gender</th>\n",
       "      <th>visit_type</th>\n",
       "      <th>hcp_specialty</th>\n",
       "      <th>place_of_service</th>\n",
       "      <th>diag_1</th>\n",
       "      <th>diag_2</th>\n",
       "      <th>diag_3</th>\n",
       "      <th>diag_4</th>\n",
       "      <th>diag_5</th>\n",
       "      <th>proc_code</th>\n",
       "      <th>OH</th>\n",
       "      <th>d</th>\n",
       "    </tr>\n",
       "  </thead>\n",
       "  <tbody>\n",
       "    <tr>\n",
       "      <th>0</th>\n",
       "      <td>00006390c96ebfffed580074c35a16a7</td>\n",
       "      <td>2020-07-13</td>\n",
       "      <td>CA</td>\n",
       "      <td>922.0</td>\n",
       "      <td>55.0</td>\n",
       "      <td>M</td>\n",
       "      <td>home visit</td>\n",
       "      <td>UNKNOWN</td>\n",
       "      <td>Home</td>\n",
       "      <td>I872</td>\n",
       "      <td>UNKNOWN</td>\n",
       "      <td>UNKNOWN</td>\n",
       "      <td>UNKNOWN</td>\n",
       "      <td>UNKNOWN</td>\n",
       "      <td>A6549</td>\n",
       "      <td>0</td>\n",
       "      <td>0</td>\n",
       "    </tr>\n",
       "    <tr>\n",
       "      <th>2</th>\n",
       "      <td>00006390c96ebfffed580074c35a16a7</td>\n",
       "      <td>2023-07-19</td>\n",
       "      <td>CA</td>\n",
       "      <td>922.0</td>\n",
       "      <td>60.0</td>\n",
       "      <td>M</td>\n",
       "      <td>outpatient visit</td>\n",
       "      <td>Internal Medicine</td>\n",
       "      <td>Office</td>\n",
       "      <td>I5020</td>\n",
       "      <td>I480</td>\n",
       "      <td>I872</td>\n",
       "      <td>L03115</td>\n",
       "      <td>L03116</td>\n",
       "      <td>3074F</td>\n",
       "      <td>0</td>\n",
       "      <td>0</td>\n",
       "    </tr>\n",
       "    <tr>\n",
       "      <th>3</th>\n",
       "      <td>00006390c96ebfffed580074c35a16a7</td>\n",
       "      <td>2023-07-19</td>\n",
       "      <td>CA</td>\n",
       "      <td>922.0</td>\n",
       "      <td>60.0</td>\n",
       "      <td>M</td>\n",
       "      <td>outpatient visit</td>\n",
       "      <td>Internal Medicine</td>\n",
       "      <td>Office</td>\n",
       "      <td>I5020</td>\n",
       "      <td>I480</td>\n",
       "      <td>I872</td>\n",
       "      <td>L03115</td>\n",
       "      <td>L03116</td>\n",
       "      <td>3078F</td>\n",
       "      <td>0</td>\n",
       "      <td>0</td>\n",
       "    </tr>\n",
       "    <tr>\n",
       "      <th>4</th>\n",
       "      <td>00006d564a4718c744f1bbf1b6c5f8c3</td>\n",
       "      <td>2023-08-11</td>\n",
       "      <td>CA</td>\n",
       "      <td>900.0</td>\n",
       "      <td>55.0</td>\n",
       "      <td>F</td>\n",
       "      <td>laboratory visit</td>\n",
       "      <td>UNKNOWN</td>\n",
       "      <td>Independent Laboratory</td>\n",
       "      <td>N200</td>\n",
       "      <td>UNKNOWN</td>\n",
       "      <td>UNKNOWN</td>\n",
       "      <td>UNKNOWN</td>\n",
       "      <td>UNKNOWN</td>\n",
       "      <td>80053</td>\n",
       "      <td>0</td>\n",
       "      <td>0</td>\n",
       "    </tr>\n",
       "    <tr>\n",
       "      <th>5</th>\n",
       "      <td>00006d564a4718c744f1bbf1b6c5f8c3</td>\n",
       "      <td>2019-11-01</td>\n",
       "      <td>CA</td>\n",
       "      <td>900.0</td>\n",
       "      <td>50.0</td>\n",
       "      <td>F</td>\n",
       "      <td>outpatient visit</td>\n",
       "      <td>UNKNOWN</td>\n",
       "      <td>Office</td>\n",
       "      <td>I517</td>\n",
       "      <td>I77819</td>\n",
       "      <td>M5137</td>\n",
       "      <td>M4317</td>\n",
       "      <td>N200</td>\n",
       "      <td>72072</td>\n",
       "      <td>0</td>\n",
       "      <td>0</td>\n",
       "    </tr>\n",
       "  </tbody>\n",
       "</table>\n",
       "</div>"
      ],
      "text/plain": [
       "                         journey_id  claim_date patient_state  \\\n",
       "0  00006390c96ebfffed580074c35a16a7  2020-07-13            CA   \n",
       "2  00006390c96ebfffed580074c35a16a7  2023-07-19            CA   \n",
       "3  00006390c96ebfffed580074c35a16a7  2023-07-19            CA   \n",
       "4  00006d564a4718c744f1bbf1b6c5f8c3  2023-08-11            CA   \n",
       "5  00006d564a4718c744f1bbf1b6c5f8c3  2019-11-01            CA   \n",
       "\n",
       "   patient_short_zip  patient_age patient_gender        visit_type  \\\n",
       "0              922.0         55.0              M        home visit   \n",
       "2              922.0         60.0              M  outpatient visit   \n",
       "3              922.0         60.0              M  outpatient visit   \n",
       "4              900.0         55.0              F  laboratory visit   \n",
       "5              900.0         50.0              F  outpatient visit   \n",
       "\n",
       "       hcp_specialty        place_of_service diag_1   diag_2   diag_3  \\\n",
       "0            UNKNOWN                    Home   I872  UNKNOWN  UNKNOWN   \n",
       "2  Internal Medicine                  Office  I5020     I480     I872   \n",
       "3  Internal Medicine                  Office  I5020     I480     I872   \n",
       "4            UNKNOWN  Independent Laboratory   N200  UNKNOWN  UNKNOWN   \n",
       "5            UNKNOWN                  Office   I517   I77819    M5137   \n",
       "\n",
       "    diag_4   diag_5 proc_code  OH  d  \n",
       "0  UNKNOWN  UNKNOWN     A6549   0  0  \n",
       "2   L03115   L03116     3074F   0  0  \n",
       "3   L03115   L03116     3078F   0  0  \n",
       "4  UNKNOWN  UNKNOWN     80053   0  0  \n",
       "5    M4317     N200     72072   0  0  "
      ]
     },
     "execution_count": 62,
     "metadata": {},
     "output_type": "execute_result"
    }
   ],
   "source": [
    "# Selecting theoretically relevant columns to develop a model \n",
    "columns_to_keep = ['journey_id','claim_date','patient_state', 'patient_short_zip', 'patient_age', 'patient_gender', 'visit_type','hcp_specialty','place_of_service','diag_1', 'diag_2', 'diag_3', 'diag_4',\n",
    "       'diag_5','proc_code','OH','d']\n",
    "df = medical_df[columns_to_keep]\n",
    "df.head()"
   ]
  },
  {
   "cell_type": "code",
   "execution_count": 63,
   "id": "16c561ca-9a4c-42ec-b796-0ed3d0626f3a",
   "metadata": {},
   "outputs": [],
   "source": [
    "# #Drop rows with null values in the columns where null value percentage is low\n",
    "# df = df.dropna(subset = ['proc_code'])\n",
    "# df = df.dropna(subset = ['patient_age'])\n",
    "# df = df.dropna(subset = ['patient_gender'])\n",
    "# df = df.dropna(subset = ['patient_short_zip'])\n",
    "# df = df.dropna(subset = ['visit_type'])\n",
    "\n",
    "# #Add Unknown to where hcp_specialty and place_of_service are missing\n",
    "# df['hcp_specialty'] = df['hcp_specialty'].astype(str).fillna('UNKNOWN')\n",
    "# df['place_of_service'] = df['place_of_service'].astype(str).fillna('UNKNOWN')\n",
    "# diag_2, diag_3, diag_4, diag_5 columns can have NULL values when diag_1 has values so, no need to treat these. I am not treating diag_1 here as I want to check this column after grouping on jouney_id"
   ]
  },
  {
   "cell_type": "code",
   "execution_count": 64,
   "id": "358c73d2-41d1-400a-8d57-69d92b2885bc",
   "metadata": {},
   "outputs": [
    {
     "name": "stderr",
     "output_type": "stream",
     "text": [
      "/var/folders/3_/cs0bsxl53jj55bb_mt8gmp040000gn/T/ipykernel_5927/3980752180.py:3: SettingWithCopyWarning: \n",
      "A value is trying to be set on a copy of a slice from a DataFrame.\n",
      "Try using .loc[row_indexer,col_indexer] = value instead\n",
      "\n",
      "See the caveats in the documentation: https://pandas.pydata.org/pandas-docs/stable/user_guide/indexing.html#returning-a-view-versus-a-copy\n",
      "  df['OH_diagnosed_date'] = np.where(df['OH']==1,df['claim_date'],np.nan)\n",
      "/var/folders/3_/cs0bsxl53jj55bb_mt8gmp040000gn/T/ipykernel_5927/3980752180.py:4: SettingWithCopyWarning: \n",
      "A value is trying to be set on a copy of a slice from a DataFrame.\n",
      "Try using .loc[row_indexer,col_indexer] = value instead\n",
      "\n",
      "See the caveats in the documentation: https://pandas.pydata.org/pandas-docs/stable/user_guide/indexing.html#returning-a-view-versus-a-copy\n",
      "  df['OH_not_diagnosed_date'] = np.where(df['OH']==0,df['claim_date'],np.nan)\n"
     ]
    },
    {
     "data": {
      "text/html": [
       "<div>\n",
       "<style scoped>\n",
       "    .dataframe tbody tr th:only-of-type {\n",
       "        vertical-align: middle;\n",
       "    }\n",
       "\n",
       "    .dataframe tbody tr th {\n",
       "        vertical-align: top;\n",
       "    }\n",
       "\n",
       "    .dataframe thead th {\n",
       "        text-align: right;\n",
       "    }\n",
       "</style>\n",
       "<table border=\"1\" class=\"dataframe\">\n",
       "  <thead>\n",
       "    <tr style=\"text-align: right;\">\n",
       "      <th></th>\n",
       "      <th>journey_id</th>\n",
       "      <th>claim_date</th>\n",
       "      <th>patient_state</th>\n",
       "      <th>patient_short_zip</th>\n",
       "      <th>patient_age</th>\n",
       "      <th>patient_gender</th>\n",
       "      <th>visit_type</th>\n",
       "      <th>hcp_specialty</th>\n",
       "      <th>place_of_service</th>\n",
       "      <th>diag_1</th>\n",
       "      <th>diag_2</th>\n",
       "      <th>diag_3</th>\n",
       "      <th>diag_4</th>\n",
       "      <th>diag_5</th>\n",
       "      <th>proc_code</th>\n",
       "      <th>OH</th>\n",
       "      <th>d</th>\n",
       "      <th>OH_diagnosed_date</th>\n",
       "      <th>OH_not_diagnosed_date</th>\n",
       "    </tr>\n",
       "  </thead>\n",
       "  <tbody>\n",
       "    <tr>\n",
       "      <th>0</th>\n",
       "      <td>00006390c96ebfffed580074c35a16a7</td>\n",
       "      <td>2020-07-13</td>\n",
       "      <td>CA</td>\n",
       "      <td>922.0</td>\n",
       "      <td>55.0</td>\n",
       "      <td>M</td>\n",
       "      <td>home visit</td>\n",
       "      <td>UNKNOWN</td>\n",
       "      <td>Home</td>\n",
       "      <td>I872</td>\n",
       "      <td>UNKNOWN</td>\n",
       "      <td>UNKNOWN</td>\n",
       "      <td>UNKNOWN</td>\n",
       "      <td>UNKNOWN</td>\n",
       "      <td>A6549</td>\n",
       "      <td>0</td>\n",
       "      <td>0</td>\n",
       "      <td>NaN</td>\n",
       "      <td>2020-07-13</td>\n",
       "    </tr>\n",
       "    <tr>\n",
       "      <th>2</th>\n",
       "      <td>00006390c96ebfffed580074c35a16a7</td>\n",
       "      <td>2023-07-19</td>\n",
       "      <td>CA</td>\n",
       "      <td>922.0</td>\n",
       "      <td>60.0</td>\n",
       "      <td>M</td>\n",
       "      <td>outpatient visit</td>\n",
       "      <td>Internal Medicine</td>\n",
       "      <td>Office</td>\n",
       "      <td>I5020</td>\n",
       "      <td>I480</td>\n",
       "      <td>I872</td>\n",
       "      <td>L03115</td>\n",
       "      <td>L03116</td>\n",
       "      <td>3074F</td>\n",
       "      <td>0</td>\n",
       "      <td>0</td>\n",
       "      <td>NaN</td>\n",
       "      <td>2023-07-19</td>\n",
       "    </tr>\n",
       "    <tr>\n",
       "      <th>3</th>\n",
       "      <td>00006390c96ebfffed580074c35a16a7</td>\n",
       "      <td>2023-07-19</td>\n",
       "      <td>CA</td>\n",
       "      <td>922.0</td>\n",
       "      <td>60.0</td>\n",
       "      <td>M</td>\n",
       "      <td>outpatient visit</td>\n",
       "      <td>Internal Medicine</td>\n",
       "      <td>Office</td>\n",
       "      <td>I5020</td>\n",
       "      <td>I480</td>\n",
       "      <td>I872</td>\n",
       "      <td>L03115</td>\n",
       "      <td>L03116</td>\n",
       "      <td>3078F</td>\n",
       "      <td>0</td>\n",
       "      <td>0</td>\n",
       "      <td>NaN</td>\n",
       "      <td>2023-07-19</td>\n",
       "    </tr>\n",
       "    <tr>\n",
       "      <th>4</th>\n",
       "      <td>00006d564a4718c744f1bbf1b6c5f8c3</td>\n",
       "      <td>2023-08-11</td>\n",
       "      <td>CA</td>\n",
       "      <td>900.0</td>\n",
       "      <td>55.0</td>\n",
       "      <td>F</td>\n",
       "      <td>laboratory visit</td>\n",
       "      <td>UNKNOWN</td>\n",
       "      <td>Independent Laboratory</td>\n",
       "      <td>N200</td>\n",
       "      <td>UNKNOWN</td>\n",
       "      <td>UNKNOWN</td>\n",
       "      <td>UNKNOWN</td>\n",
       "      <td>UNKNOWN</td>\n",
       "      <td>80053</td>\n",
       "      <td>0</td>\n",
       "      <td>0</td>\n",
       "      <td>NaN</td>\n",
       "      <td>2023-08-11</td>\n",
       "    </tr>\n",
       "    <tr>\n",
       "      <th>5</th>\n",
       "      <td>00006d564a4718c744f1bbf1b6c5f8c3</td>\n",
       "      <td>2019-11-01</td>\n",
       "      <td>CA</td>\n",
       "      <td>900.0</td>\n",
       "      <td>50.0</td>\n",
       "      <td>F</td>\n",
       "      <td>outpatient visit</td>\n",
       "      <td>UNKNOWN</td>\n",
       "      <td>Office</td>\n",
       "      <td>I517</td>\n",
       "      <td>I77819</td>\n",
       "      <td>M5137</td>\n",
       "      <td>M4317</td>\n",
       "      <td>N200</td>\n",
       "      <td>72072</td>\n",
       "      <td>0</td>\n",
       "      <td>0</td>\n",
       "      <td>NaN</td>\n",
       "      <td>2019-11-01</td>\n",
       "    </tr>\n",
       "  </tbody>\n",
       "</table>\n",
       "</div>"
      ],
      "text/plain": [
       "                         journey_id  claim_date patient_state  \\\n",
       "0  00006390c96ebfffed580074c35a16a7  2020-07-13            CA   \n",
       "2  00006390c96ebfffed580074c35a16a7  2023-07-19            CA   \n",
       "3  00006390c96ebfffed580074c35a16a7  2023-07-19            CA   \n",
       "4  00006d564a4718c744f1bbf1b6c5f8c3  2023-08-11            CA   \n",
       "5  00006d564a4718c744f1bbf1b6c5f8c3  2019-11-01            CA   \n",
       "\n",
       "   patient_short_zip  patient_age patient_gender        visit_type  \\\n",
       "0              922.0         55.0              M        home visit   \n",
       "2              922.0         60.0              M  outpatient visit   \n",
       "3              922.0         60.0              M  outpatient visit   \n",
       "4              900.0         55.0              F  laboratory visit   \n",
       "5              900.0         50.0              F  outpatient visit   \n",
       "\n",
       "       hcp_specialty        place_of_service diag_1   diag_2   diag_3  \\\n",
       "0            UNKNOWN                    Home   I872  UNKNOWN  UNKNOWN   \n",
       "2  Internal Medicine                  Office  I5020     I480     I872   \n",
       "3  Internal Medicine                  Office  I5020     I480     I872   \n",
       "4            UNKNOWN  Independent Laboratory   N200  UNKNOWN  UNKNOWN   \n",
       "5            UNKNOWN                  Office   I517   I77819    M5137   \n",
       "\n",
       "    diag_4   diag_5 proc_code  OH  d OH_diagnosed_date OH_not_diagnosed_date  \n",
       "0  UNKNOWN  UNKNOWN     A6549   0  0               NaN            2020-07-13  \n",
       "2   L03115   L03116     3074F   0  0               NaN            2023-07-19  \n",
       "3   L03115   L03116     3078F   0  0               NaN            2023-07-19  \n",
       "4  UNKNOWN  UNKNOWN     80053   0  0               NaN            2023-08-11  \n",
       "5    M4317     N200     72072   0  0               NaN            2019-11-01  "
      ]
     },
     "execution_count": 64,
     "metadata": {},
     "output_type": "execute_result"
    }
   ],
   "source": [
    "# Extract and store the obesity/hypertension diagnosis dates. \n",
    "# we will use this to check if a person who has been diagnosed and taken the medicine has been cured or been rediagnosed\n",
    "df['OH_diagnosed_date'] = np.where(df['OH']==1,df['claim_date'],np.nan)\n",
    "df['OH_not_diagnosed_date'] = np.where(df['OH']==0,df['claim_date'],np.nan)\n",
    "df.head()"
   ]
  },
  {
   "cell_type": "code",
   "execution_count": 65,
   "id": "262828cc-a787-4ec1-a25a-f28618a8f6b3",
   "metadata": {},
   "outputs": [],
   "source": [
    "# Selecting all the relevant columns and aggregating the results at a patient - journey level\n",
    "grouping_code = \"\"\"\n",
    "SELECT journey_id, patient_state, patient_short_zip, patient_age, patient_gender, visit_type, hcp_specialty, place_of_service\n",
    ", max(OH) as OH\n",
    ", max(d) as d\n",
    ",min(OH_diagnosed_date) as earliest_OH_diagnosed_date\n",
    ",max(OH_diagnosed_date) as latest_OH_diagnosed_date\n",
    ",max(OH_not_diagnosed_date) as last_OH_not_diagnosed_date\n",
    "FROM df\n",
    "GROUP BY 1,2,3,4,5,6,7,8\n",
    "\"\"\"\n",
    "grouped_df = sqldf(grouping_code)\n"
   ]
  },
  {
   "cell_type": "code",
   "execution_count": 66,
   "id": "df44985a-3d2b-4cd4-988e-c569174ab957",
   "metadata": {},
   "outputs": [],
   "source": [
    "# Our main focus would be on patients who were diagnosed with obesity/hypertension and were between the range of 40 and 75 years of age \n",
    "filtered_df = grouped_df[(grouped_df['OH']==1)& (grouped_df['patient_age']>40) & (grouped_df['patient_age']<75)]\n"
   ]
  },
  {
   "cell_type": "code",
   "execution_count": 67,
   "id": "80339fbc-df1f-48db-987e-60f78d5cd882",
   "metadata": {},
   "outputs": [
    {
     "name": "stderr",
     "output_type": "stream",
     "text": [
      "/var/folders/3_/cs0bsxl53jj55bb_mt8gmp040000gn/T/ipykernel_5927/546600410.py:6: SettingWithCopyWarning: \n",
      "A value is trying to be set on a copy of a slice from a DataFrame.\n",
      "Try using .loc[row_indexer,col_indexer] = value instead\n",
      "\n",
      "See the caveats in the documentation: https://pandas.pydata.org/pandas-docs/stable/user_guide/indexing.html#returning-a-view-versus-a-copy\n",
      "  filtered_df['y'] = np.where(filtered_df['latest_OH_diagnosed_date'] > filtered_df['earliest_OH_diagnosed_date'], 0, 1)\n"
     ]
    }
   ],
   "source": [
    "# Let's now create an outcome variable 'y' which flags whether the patient got treated successfully or not - \n",
    "#if the patient was diagnosed with obesity'hypertension at time t1 and was not diagnosed for obesity/hypertension later , then we can conclude that the patient was treated\n",
    "# calculation = extract the 1st occurence of diagnosis & most recent diagnosis dates, then check if his recent diagnosed date is greater than the patient's 1st date (not cured)\n",
    "# as if the patient has an occurence of diagnosis after his 1st treatment, it means that he is not cured when treated\n",
    "\n",
    "filtered_df['y'] = np.where(filtered_df['latest_OH_diagnosed_date'] > filtered_df['earliest_OH_diagnosed_date'], 0, 1)\n"
   ]
  },
  {
   "cell_type": "code",
   "execution_count": 68,
   "id": "0275d165-fc46-4095-8741-d05742bc8a2a",
   "metadata": {},
   "outputs": [
    {
     "data": {
      "text/plain": [
       "(0, 14)"
      ]
     },
     "execution_count": 68,
     "metadata": {},
     "output_type": "execute_result"
    }
   ],
   "source": [
    "# Data Integrity Checks \n",
    "# Checked how many patients have a 2nd diagnosis of obesity & hypertension after their 1st journey of getting treated by ozempic \n",
    "# filtered_df['latest_OH_diagnosed_date'] != filtered_df['earliest_OH_diagnosed_date'] : (10138, 14)\n",
    "\n",
    "# Then checked , if all these records are accurately marked as not cured (y==0) \n",
    "# so when we check the not cured condition with y==1 , it will return 0 records, which confirms that all the records are rightly tagged as not cured(y==0)\n",
    "filtered_df[np.logical_and(filtered_df['latest_OH_diagnosed_date'] != filtered_df['earliest_OH_diagnosed_date'],filtered_df['y']==1)].shape"
   ]
  },
  {
   "cell_type": "code",
   "execution_count": 70,
   "id": "97122304-192f-4c2e-ba5b-45afb588f2e9",
   "metadata": {},
   "outputs": [],
   "source": [
    "from sklearn.preprocessing import LabelEncoder\n",
    "##Perform one hot encoding on categorical variables\n",
    "one_hot_df = pd.get_dummies(filtered_df, columns=['patient_gender'],drop_first=True,dtype=float)\n",
    "\n",
    "# Columns to label encode\n",
    "columns_to_encode = ['patient_state','patient_short_zip','patient_age','visit_type','hcp_specialty','place_of_service']\n",
    "                                                       \n",
    "\n",
    "# Initialize LabelEncoder\n",
    "label_encoder = LabelEncoder()\n",
    "\n",
    "# Apply label encoding to each column\n",
    "for column in columns_to_encode:\n",
    "    one_hot_df[column] = label_encoder.fit_transform(one_hot_df[column])"
   ]
  },
  {
   "cell_type": "code",
   "execution_count": 71,
   "id": "8022edc6-28a7-4220-af69-ad52968babff",
   "metadata": {},
   "outputs": [
    {
     "data": {
      "text/html": [
       "<div>\n",
       "<style scoped>\n",
       "    .dataframe tbody tr th:only-of-type {\n",
       "        vertical-align: middle;\n",
       "    }\n",
       "\n",
       "    .dataframe tbody tr th {\n",
       "        vertical-align: top;\n",
       "    }\n",
       "\n",
       "    .dataframe thead th {\n",
       "        text-align: right;\n",
       "    }\n",
       "</style>\n",
       "<table border=\"1\" class=\"dataframe\">\n",
       "  <thead>\n",
       "    <tr style=\"text-align: right;\">\n",
       "      <th></th>\n",
       "      <th>journey_id</th>\n",
       "      <th>patient_state</th>\n",
       "      <th>patient_short_zip</th>\n",
       "      <th>patient_age</th>\n",
       "      <th>visit_type</th>\n",
       "      <th>hcp_specialty</th>\n",
       "      <th>place_of_service</th>\n",
       "      <th>OH</th>\n",
       "      <th>d</th>\n",
       "      <th>earliest_OH_diagnosed_date</th>\n",
       "      <th>latest_OH_diagnosed_date</th>\n",
       "      <th>last_OH_not_diagnosed_date</th>\n",
       "      <th>y</th>\n",
       "      <th>patient_gender_M</th>\n",
       "    </tr>\n",
       "  </thead>\n",
       "  <tbody>\n",
       "    <tr>\n",
       "      <th>2</th>\n",
       "      <td>00006d564a4718c744f1bbf1b6c5f8c3</td>\n",
       "      <td>4</td>\n",
       "      <td>27</td>\n",
       "      <td>1</td>\n",
       "      <td>5</td>\n",
       "      <td>106</td>\n",
       "      <td>11</td>\n",
       "      <td>1</td>\n",
       "      <td>0</td>\n",
       "      <td>2019-11-01</td>\n",
       "      <td>2019-11-01</td>\n",
       "      <td>2022-10-07</td>\n",
       "      <td>1</td>\n",
       "      <td>0.0</td>\n",
       "    </tr>\n",
       "    <tr>\n",
       "      <th>3</th>\n",
       "      <td>00006d564a4718c744f1bbf1b6c5f8c3</td>\n",
       "      <td>4</td>\n",
       "      <td>27</td>\n",
       "      <td>1</td>\n",
       "      <td>7</td>\n",
       "      <td>23</td>\n",
       "      <td>16</td>\n",
       "      <td>1</td>\n",
       "      <td>0</td>\n",
       "      <td>2022-09-16</td>\n",
       "      <td>2022-09-16</td>\n",
       "      <td>None</td>\n",
       "      <td>1</td>\n",
       "      <td>0.0</td>\n",
       "    </tr>\n",
       "    <tr>\n",
       "      <th>7</th>\n",
       "      <td>00006d564a4718c744f1bbf1b6c5f8c3</td>\n",
       "      <td>4</td>\n",
       "      <td>27</td>\n",
       "      <td>1</td>\n",
       "      <td>7</td>\n",
       "      <td>82</td>\n",
       "      <td>23</td>\n",
       "      <td>1</td>\n",
       "      <td>0</td>\n",
       "      <td>2022-09-28</td>\n",
       "      <td>2022-09-28</td>\n",
       "      <td>None</td>\n",
       "      <td>1</td>\n",
       "      <td>0.0</td>\n",
       "    </tr>\n",
       "    <tr>\n",
       "      <th>12</th>\n",
       "      <td>000072bc05e31d0126475c7a3e771af1</td>\n",
       "      <td>4</td>\n",
       "      <td>33</td>\n",
       "      <td>2</td>\n",
       "      <td>7</td>\n",
       "      <td>43</td>\n",
       "      <td>16</td>\n",
       "      <td>1</td>\n",
       "      <td>0</td>\n",
       "      <td>2023-02-03</td>\n",
       "      <td>2023-02-03</td>\n",
       "      <td>None</td>\n",
       "      <td>1</td>\n",
       "      <td>1.0</td>\n",
       "    </tr>\n",
       "    <tr>\n",
       "      <th>14</th>\n",
       "      <td>00011020325337a2a22fb26b6492196a</td>\n",
       "      <td>4</td>\n",
       "      <td>34</td>\n",
       "      <td>6</td>\n",
       "      <td>5</td>\n",
       "      <td>106</td>\n",
       "      <td>11</td>\n",
       "      <td>1</td>\n",
       "      <td>0</td>\n",
       "      <td>2022-09-21</td>\n",
       "      <td>2022-09-21</td>\n",
       "      <td>2022-09-21</td>\n",
       "      <td>1</td>\n",
       "      <td>1.0</td>\n",
       "    </tr>\n",
       "  </tbody>\n",
       "</table>\n",
       "</div>"
      ],
      "text/plain": [
       "                          journey_id  patient_state  patient_short_zip  \\\n",
       "2   00006d564a4718c744f1bbf1b6c5f8c3              4                 27   \n",
       "3   00006d564a4718c744f1bbf1b6c5f8c3              4                 27   \n",
       "7   00006d564a4718c744f1bbf1b6c5f8c3              4                 27   \n",
       "12  000072bc05e31d0126475c7a3e771af1              4                 33   \n",
       "14  00011020325337a2a22fb26b6492196a              4                 34   \n",
       "\n",
       "    patient_age  visit_type  hcp_specialty  place_of_service  OH  d  \\\n",
       "2             1           5            106                11   1  0   \n",
       "3             1           7             23                16   1  0   \n",
       "7             1           7             82                23   1  0   \n",
       "12            2           7             43                16   1  0   \n",
       "14            6           5            106                11   1  0   \n",
       "\n",
       "   earliest_OH_diagnosed_date latest_OH_diagnosed_date  \\\n",
       "2                  2019-11-01               2019-11-01   \n",
       "3                  2022-09-16               2022-09-16   \n",
       "7                  2022-09-28               2022-09-28   \n",
       "12                 2023-02-03               2023-02-03   \n",
       "14                 2022-09-21               2022-09-21   \n",
       "\n",
       "   last_OH_not_diagnosed_date  y  patient_gender_M  \n",
       "2                  2022-10-07  1               0.0  \n",
       "3                        None  1               0.0  \n",
       "7                        None  1               0.0  \n",
       "12                       None  1               1.0  \n",
       "14                 2022-09-21  1               1.0  "
      ]
     },
     "execution_count": 71,
     "metadata": {},
     "output_type": "execute_result"
    }
   ],
   "source": [
    "one_hot_df.head()"
   ]
  },
  {
   "cell_type": "code",
   "execution_count": 72,
   "id": "611c21c6-fc6b-4639-82a6-3243ae40c498",
   "metadata": {},
   "outputs": [],
   "source": [
    "# Keep columns that are to be used in model\n",
    "columns_to_drop = ['journey_id','OH','earliest_OH_diagnosed_date','last_OH_not_diagnosed_date','latest_OH_diagnosed_date']\n",
    "filtered_df2 = one_hot_df.drop(columns = columns_to_drop)\n",
    "# filtered_df2.head()"
   ]
  },
  {
   "cell_type": "code",
   "execution_count": 73,
   "id": "1a0fc242-52ec-43cb-ace5-a73fad5ad8c5",
   "metadata": {},
   "outputs": [],
   "source": [
    "from sklearn.model_selection import train_test_split\n",
    "\n",
    "#Split the data into testing and training data\n",
    "train, test = train_test_split(filtered_df2, train_size=0.8, random_state=0)"
   ]
  },
  {
   "cell_type": "code",
   "execution_count": 74,
   "id": "d4ad84a7-d206-409c-b471-14450a3deb98",
   "metadata": {},
   "outputs": [],
   "source": [
    "#Pull x, d (treatment) and y(cured_status) separately\n",
    "x_train= train.drop(['d','y'],axis=1)\n",
    "x_test= test.drop(['d','y'],axis=1)\n",
    "y_train= train['y']\n",
    "y_test= test['y']\n",
    "d_train= train['d']\n",
    "d_test= test['d']"
   ]
  },
  {
   "cell_type": "markdown",
   "id": "479fdb4f-94b4-4672-aedd-d7f121b03b1d",
   "metadata": {},
   "source": [
    "1st fit lasso with d ~ x (to get the effect X has on d, this will give us d which is independent of X)"
   ]
  },
  {
   "cell_type": "code",
   "execution_count": 75,
   "id": "9621e36a-66ec-4cfb-a44c-68dad6176dc5",
   "metadata": {},
   "outputs": [
    {
     "name": "stdout",
     "output_type": "stream",
     "text": [
      "Best alpha: 0.00044143147243591796\n"
     ]
    }
   ],
   "source": [
    "#Find best alpha through cross-validation\n",
    "\n",
    "from sklearn.linear_model import LassoCV\n",
    "\n",
    "lasso_cv = LassoCV(alphas=None, cv=5, random_state=0)\n",
    "\n",
    "# Fit the model\n",
    "lasso_cv.fit(x_train, d_train)\n",
    "\n",
    "# Best alpha\n",
    "print(f\"Best alpha: {lasso_cv.alpha_}\")"
   ]
  },
  {
   "cell_type": "code",
   "execution_count": 76,
   "id": "66362c12-ee09-4efa-940b-b6b00c256669",
   "metadata": {},
   "outputs": [],
   "source": [
    "from sklearn.linear_model import Lasso\n",
    "\n",
    "#Fit lasso and predict treatment variable and store it in another variable \n",
    "lasso = Lasso(alpha=lasso_cv.alpha_)\n",
    "lasso.fit(x_train, d_train)\n",
    "d_train_pred = lasso.predict(x_train)\n",
    "d_test_pred = lasso.predict(x_test)"
   ]
  },
  {
   "cell_type": "code",
   "execution_count": 77,
   "id": "fa5dbbb2-37f8-4a3b-9f70-e56d79e5854b",
   "metadata": {},
   "outputs": [
    {
     "name": "stdout",
     "output_type": "stream",
     "text": [
      "Coefficients for first lasso: [-0.          0.00045652 -0.00014374  0.00189149  0.00014442  0.00144672\n",
      " -0.        ]\n"
     ]
    }
   ],
   "source": [
    "print(\"Coefficients for first lasso:\", lasso.coef_)"
   ]
  },
  {
   "cell_type": "markdown",
   "id": "fc016b30-1cbf-4d46-ac17-b2e2bda35cdc",
   "metadata": {},
   "source": [
    "Second lasso (partial) with y~d, predicted d, x"
   ]
  },
  {
   "cell_type": "code",
   "execution_count": 78,
   "id": "d8a5050b-1cfe-4bbf-a551-3ed6d5708c77",
   "metadata": {},
   "outputs": [],
   "source": [
    "#Make new x which has d and predicted d as well\n",
    "x_train2 = train.drop('y',axis=1)\n",
    "x_train2['d_predicted'] = d_train_pred\n",
    "x_test2 = test.drop('y',axis=1)\n",
    "x_test2['d_predicted'] = d_test_pred"
   ]
  },
  {
   "cell_type": "code",
   "execution_count": 79,
   "id": "e9133e0a-e842-4651-a942-082e93c47b31",
   "metadata": {},
   "outputs": [
    {
     "data": {
      "text/html": [
       "<div>\n",
       "<style scoped>\n",
       "    .dataframe tbody tr th:only-of-type {\n",
       "        vertical-align: middle;\n",
       "    }\n",
       "\n",
       "    .dataframe tbody tr th {\n",
       "        vertical-align: top;\n",
       "    }\n",
       "\n",
       "    .dataframe thead th {\n",
       "        text-align: right;\n",
       "    }\n",
       "</style>\n",
       "<table border=\"1\" class=\"dataframe\">\n",
       "  <thead>\n",
       "    <tr style=\"text-align: right;\">\n",
       "      <th></th>\n",
       "      <th>patient_state</th>\n",
       "      <th>patient_short_zip</th>\n",
       "      <th>patient_age</th>\n",
       "      <th>visit_type</th>\n",
       "      <th>hcp_specialty</th>\n",
       "      <th>place_of_service</th>\n",
       "      <th>d</th>\n",
       "      <th>patient_gender_M</th>\n",
       "      <th>d_predicted</th>\n",
       "    </tr>\n",
       "  </thead>\n",
       "  <tbody>\n",
       "    <tr>\n",
       "      <th>31126</th>\n",
       "      <td>4</td>\n",
       "      <td>32</td>\n",
       "      <td>2</td>\n",
       "      <td>4</td>\n",
       "      <td>19</td>\n",
       "      <td>12</td>\n",
       "      <td>0</td>\n",
       "      <td>0.0</td>\n",
       "      <td>-0.008848</td>\n",
       "    </tr>\n",
       "    <tr>\n",
       "      <th>2419</th>\n",
       "      <td>4</td>\n",
       "      <td>27</td>\n",
       "      <td>2</td>\n",
       "      <td>7</td>\n",
       "      <td>35</td>\n",
       "      <td>16</td>\n",
       "      <td>0</td>\n",
       "      <td>0.0</td>\n",
       "      <td>0.002641</td>\n",
       "    </tr>\n",
       "    <tr>\n",
       "      <th>92339</th>\n",
       "      <td>4</td>\n",
       "      <td>28</td>\n",
       "      <td>6</td>\n",
       "      <td>0</td>\n",
       "      <td>55</td>\n",
       "      <td>23</td>\n",
       "      <td>0</td>\n",
       "      <td>0.0</td>\n",
       "      <td>0.002298</td>\n",
       "    </tr>\n",
       "    <tr>\n",
       "      <th>60713</th>\n",
       "      <td>4</td>\n",
       "      <td>34</td>\n",
       "      <td>2</td>\n",
       "      <td>7</td>\n",
       "      <td>36</td>\n",
       "      <td>16</td>\n",
       "      <td>0</td>\n",
       "      <td>1.0</td>\n",
       "      <td>0.005982</td>\n",
       "    </tr>\n",
       "    <tr>\n",
       "      <th>83240</th>\n",
       "      <td>4</td>\n",
       "      <td>34</td>\n",
       "      <td>1</td>\n",
       "      <td>5</td>\n",
       "      <td>106</td>\n",
       "      <td>11</td>\n",
       "      <td>0</td>\n",
       "      <td>1.0</td>\n",
       "      <td>0.005218</td>\n",
       "    </tr>\n",
       "  </tbody>\n",
       "</table>\n",
       "</div>"
      ],
      "text/plain": [
       "       patient_state  patient_short_zip  patient_age  visit_type  \\\n",
       "31126              4                 32            2           4   \n",
       "2419               4                 27            2           7   \n",
       "92339              4                 28            6           0   \n",
       "60713              4                 34            2           7   \n",
       "83240              4                 34            1           5   \n",
       "\n",
       "       hcp_specialty  place_of_service  d  patient_gender_M  d_predicted  \n",
       "31126             19                12  0               0.0    -0.008848  \n",
       "2419              35                16  0               0.0     0.002641  \n",
       "92339             55                23  0               0.0     0.002298  \n",
       "60713             36                16  0               1.0     0.005982  \n",
       "83240            106                11  0               1.0     0.005218  "
      ]
     },
     "execution_count": 79,
     "metadata": {},
     "output_type": "execute_result"
    }
   ],
   "source": [
    "x_train2.head()"
   ]
  },
  {
   "cell_type": "code",
   "execution_count": 80,
   "id": "7b2833d8-d1a8-4255-843f-fd877bcfa2bb",
   "metadata": {},
   "outputs": [
    {
     "data": {
      "text/plain": [
       "(31732, 9)"
      ]
     },
     "execution_count": 80,
     "metadata": {},
     "output_type": "execute_result"
    }
   ],
   "source": [
    "x_train2.shape"
   ]
  },
  {
   "cell_type": "code",
   "execution_count": 81,
   "id": "926d97a2-ac2b-4ec8-88f4-201631d53e5e",
   "metadata": {},
   "outputs": [],
   "source": [
    "#Function for partial lasso\n",
    "import numpy as np\n",
    "from scipy.optimize import minimize\n",
    "from sklearn.base import BaseEstimator, ClassifierMixin\n",
    "from sklearn.metrics import log_loss\n",
    "\n",
    "class SelectiveRegularizationLogisticRegression(BaseEstimator, ClassifierMixin):\n",
    "    def __init__(self, penalty_indices, penalty_weights, tol=1e-4, max_iter=100):\n",
    "        self.penalty_indices = penalty_indices\n",
    "        self.penalty_weights = penalty_weights\n",
    "        self.tol = tol\n",
    "        self.max_iter = max_iter\n",
    "    \n",
    "    def _sigmoid(self, z):\n",
    "        return 1 / (1 + np.exp(-z))\n",
    "    \n",
    "    def _loss(self, coef, X, y):\n",
    "        predictions = self._sigmoid(X @ coef)\n",
    "        # Basic log loss\n",
    "        basic_loss = log_loss(y, predictions)\n",
    "        \n",
    "        # Regularization term, selectively applied with L1 penalty\n",
    "        reg_term = sum(self.penalty_weights[i] * abs(coef[self.penalty_indices[i]]) for i in range(len(self.penalty_indices)))\n",
    "        \n",
    "        return basic_loss + reg_term\n",
    "    \n",
    "    def fit(self, X, y):\n",
    "        # Add intercept term\n",
    "        X = np.hstack([np.ones((X.shape[0], 1)), X])\n",
    "        \n",
    "        initial_coef = np.zeros(X.shape[1])\n",
    "        result = minimize(self._loss, initial_coef, args=(X, y), method='SLSQP', tol=self.tol, options={'maxiter': self.max_iter})\n",
    "        \n",
    "        self.coef_ = result.x\n",
    "        return self\n",
    "    \n",
    "    def predict_proba(self, X):\n",
    "        X = np.hstack([np.ones((X.shape[0], 1)), X])\n",
    "        proba = self._sigmoid(X @ self.coef_)\n",
    "        return np.vstack([1-proba, proba]).T\n",
    "    \n",
    "    def predict(self, X):\n",
    "        return (self.predict_proba(X)[:, 1] > 0.5).astype(int)"
   ]
  },
  {
   "cell_type": "markdown",
   "id": "b286f387-8d96-4fc3-a308-922859d07f87",
   "metadata": {},
   "source": [
    "### **Interpretations**\n",
    "- Running lasso CV to get the best lambda which balances the bias & variance\n",
    "- best lambda from CV = 0.000637\n",
    "- When a relatively small alpha value is selected by CV lasso,\n",
    "- This means that the resulting Lasso regression model likely has a small number of predictors with non-zero coefficients, in this case all the predictors are non zero\n",
    "- In the above case resulting Lasso regression model is similar to an ordinary linear regression model"
   ]
  },
  {
   "cell_type": "code",
   "execution_count": 82,
   "id": "9b9d6a1f-cc76-4410-8ee0-c5e06d946f4e",
   "metadata": {},
   "outputs": [
    {
     "name": "stdout",
     "output_type": "stream",
     "text": [
      "Best alpha: 0.00010845464494500047\n"
     ]
    }
   ],
   "source": [
    "\n",
    "lasso_cv = LassoCV(alphas=None, cv=5, random_state=0)\n",
    "\n",
    "# Fit the model\n",
    "lasso_cv.fit(x_train2, y_train)\n",
    "\n",
    "# Best alpha\n",
    "print(f\"Best alpha: {lasso_cv.alpha_}\")"
   ]
  },
  {
   "cell_type": "code",
   "execution_count": 83,
   "id": "afa70f43-e2ae-46b5-a914-d2fb963e590e",
   "metadata": {},
   "outputs": [],
   "source": [
    "x_train2 = x_train2.values\n",
    "y_train2 = y_train.values\n",
    "x_test2 = x_test2.values\n",
    "y_test2 = y_test.values"
   ]
  },
  {
   "cell_type": "code",
   "execution_count": 84,
   "id": "67a09679-6963-481d-8413-516b3a244a03",
   "metadata": {},
   "outputs": [
    {
     "data": {
      "text/html": [
       "<style>#sk-container-id-1 {color: black;}#sk-container-id-1 pre{padding: 0;}#sk-container-id-1 div.sk-toggleable {background-color: white;}#sk-container-id-1 label.sk-toggleable__label {cursor: pointer;display: block;width: 100%;margin-bottom: 0;padding: 0.3em;box-sizing: border-box;text-align: center;}#sk-container-id-1 label.sk-toggleable__label-arrow:before {content: \"▸\";float: left;margin-right: 0.25em;color: #696969;}#sk-container-id-1 label.sk-toggleable__label-arrow:hover:before {color: black;}#sk-container-id-1 div.sk-estimator:hover label.sk-toggleable__label-arrow:before {color: black;}#sk-container-id-1 div.sk-toggleable__content {max-height: 0;max-width: 0;overflow: hidden;text-align: left;background-color: #f0f8ff;}#sk-container-id-1 div.sk-toggleable__content pre {margin: 0.2em;color: black;border-radius: 0.25em;background-color: #f0f8ff;}#sk-container-id-1 input.sk-toggleable__control:checked~div.sk-toggleable__content {max-height: 200px;max-width: 100%;overflow: auto;}#sk-container-id-1 input.sk-toggleable__control:checked~label.sk-toggleable__label-arrow:before {content: \"▾\";}#sk-container-id-1 div.sk-estimator input.sk-toggleable__control:checked~label.sk-toggleable__label {background-color: #d4ebff;}#sk-container-id-1 div.sk-label input.sk-toggleable__control:checked~label.sk-toggleable__label {background-color: #d4ebff;}#sk-container-id-1 input.sk-hidden--visually {border: 0;clip: rect(1px 1px 1px 1px);clip: rect(1px, 1px, 1px, 1px);height: 1px;margin: -1px;overflow: hidden;padding: 0;position: absolute;width: 1px;}#sk-container-id-1 div.sk-estimator {font-family: monospace;background-color: #f0f8ff;border: 1px dotted black;border-radius: 0.25em;box-sizing: border-box;margin-bottom: 0.5em;}#sk-container-id-1 div.sk-estimator:hover {background-color: #d4ebff;}#sk-container-id-1 div.sk-parallel-item::after {content: \"\";width: 100%;border-bottom: 1px solid gray;flex-grow: 1;}#sk-container-id-1 div.sk-label:hover label.sk-toggleable__label {background-color: #d4ebff;}#sk-container-id-1 div.sk-serial::before {content: \"\";position: absolute;border-left: 1px solid gray;box-sizing: border-box;top: 0;bottom: 0;left: 50%;z-index: 0;}#sk-container-id-1 div.sk-serial {display: flex;flex-direction: column;align-items: center;background-color: white;padding-right: 0.2em;padding-left: 0.2em;position: relative;}#sk-container-id-1 div.sk-item {position: relative;z-index: 1;}#sk-container-id-1 div.sk-parallel {display: flex;align-items: stretch;justify-content: center;background-color: white;position: relative;}#sk-container-id-1 div.sk-item::before, #sk-container-id-1 div.sk-parallel-item::before {content: \"\";position: absolute;border-left: 1px solid gray;box-sizing: border-box;top: 0;bottom: 0;left: 50%;z-index: -1;}#sk-container-id-1 div.sk-parallel-item {display: flex;flex-direction: column;z-index: 1;position: relative;background-color: white;}#sk-container-id-1 div.sk-parallel-item:first-child::after {align-self: flex-end;width: 50%;}#sk-container-id-1 div.sk-parallel-item:last-child::after {align-self: flex-start;width: 50%;}#sk-container-id-1 div.sk-parallel-item:only-child::after {width: 0;}#sk-container-id-1 div.sk-dashed-wrapped {border: 1px dashed gray;margin: 0 0.4em 0.5em 0.4em;box-sizing: border-box;padding-bottom: 0.4em;background-color: white;}#sk-container-id-1 div.sk-label label {font-family: monospace;font-weight: bold;display: inline-block;line-height: 1.2em;}#sk-container-id-1 div.sk-label-container {text-align: center;}#sk-container-id-1 div.sk-container {/* jupyter's `normalize.less` sets `[hidden] { display: none; }` but bootstrap.min.css set `[hidden] { display: none !important; }` so we also need the `!important` here to be able to override the default hidden behavior on the sphinx rendered scikit-learn.org. See: https://github.com/scikit-learn/scikit-learn/issues/21755 */display: inline-block !important;position: relative;}#sk-container-id-1 div.sk-text-repr-fallback {display: none;}</style><div id=\"sk-container-id-1\" class=\"sk-top-container\"><div class=\"sk-text-repr-fallback\"><pre>SelectiveRegularizationLogisticRegression(penalty_indices=[1, 2, 3, 4, 5, 6, 8],\n",
       "                                          penalty_weights=[0.0014, 0.0014,\n",
       "                                                           0.0014, 0.0014,\n",
       "                                                           0.0014, 0.0014,\n",
       "                                                           0.0014])</pre><b>In a Jupyter environment, please rerun this cell to show the HTML representation or trust the notebook. <br />On GitHub, the HTML representation is unable to render, please try loading this page with nbviewer.org.</b></div><div class=\"sk-container\" hidden><div class=\"sk-item\"><div class=\"sk-estimator sk-toggleable\"><input class=\"sk-toggleable__control sk-hidden--visually\" id=\"sk-estimator-id-1\" type=\"checkbox\" checked><label for=\"sk-estimator-id-1\" class=\"sk-toggleable__label sk-toggleable__label-arrow\">SelectiveRegularizationLogisticRegression</label><div class=\"sk-toggleable__content\"><pre>SelectiveRegularizationLogisticRegression(penalty_indices=[1, 2, 3, 4, 5, 6, 8],\n",
       "                                          penalty_weights=[0.0014, 0.0014,\n",
       "                                                           0.0014, 0.0014,\n",
       "                                                           0.0014, 0.0014,\n",
       "                                                           0.0014])</pre></div></div></div></div></div>"
      ],
      "text/plain": [
       "SelectiveRegularizationLogisticRegression(penalty_indices=[1, 2, 3, 4, 5, 6, 8],\n",
       "                                          penalty_weights=[0.0014, 0.0014,\n",
       "                                                           0.0014, 0.0014,\n",
       "                                                           0.0014, 0.0014,\n",
       "                                                           0.0014])"
      ]
     },
     "execution_count": 84,
     "metadata": {},
     "output_type": "execute_result"
    }
   ],
   "source": [
    "penalty_indices = [1,2,3,4,5,6,8] # Apply penalties to all coefficients except that of d and d_predicted\n",
    "penalty_weights = [0.0014,0.0014,0.0014,0.0014,0.0014,0.0014,0.0014] # Penalty weights for these coefficients\n",
    "\n",
    "model = SelectiveRegularizationLogisticRegression(penalty_indices=penalty_indices, penalty_weights=penalty_weights)\n",
    "model.fit(x_train2, y_train)"
   ]
  },
  {
   "cell_type": "code",
   "execution_count": 85,
   "id": "bb99125b-29cc-42a5-8db4-26e1bb20cf4a",
   "metadata": {},
   "outputs": [
    {
     "name": "stdout",
     "output_type": "stream",
     "text": [
      "Coefficients for penalized features: [ 5.26020664e-03  1.23794142e-02  3.18924481e-02 -2.15103427e-02\n",
      " -6.06326685e-02  2.03663928e-03  2.31785313e-02 -1.67998439e-05\n",
      "  6.40684925e-03 -3.23514934e-04]\n"
     ]
    }
   ],
   "source": [
    "print(\"Coefficients for penalized features:\", model.coef_)"
   ]
  },
  {
   "cell_type": "markdown",
   "id": "52ce0481-0320-4a21-b57b-3e92265f78de",
   "metadata": {},
   "source": [
    "#### **Model Evaluation and Interpretation**"
   ]
  },
  {
   "cell_type": "markdown",
   "id": "aeaef9c4-96c0-4112-b763-c94534552f87",
   "metadata": {},
   "source": [
    "- R^2 of -0.346 suggests that our model is performing poorly in terms of explaining the variance in cured status of the disease (obesity & hypertension)\n",
    "- negative R^2 indicates that the model does not perform well in explaining the variance & may even perform worse than a model that simply predicts the mean of the Y\n",
    "- Negative R^2 suggests that the model does not capture the underlying patterns in the data well and that the data has a high degree of variability that cannot be well-predicted by a linear model\n",
    "- model is not the correct choice for this type of data"
   ]
  },
  {
   "cell_type": "code",
   "execution_count": 86,
   "id": "31242cc3-0739-40dc-8fc9-61d493c34862",
   "metadata": {},
   "outputs": [
    {
     "name": "stdout",
     "output_type": "stream",
     "text": [
      "MSE: 0.2538762132862725\n",
      "RMSE: 0.5038613036206219\n",
      "R^2: -0.3402601790843045\n"
     ]
    }
   ],
   "source": [
    "#Predict and evaluate model\n",
    "from sklearn.metrics import mean_squared_error , r2_score\n",
    "\n",
    "y_pred = model.predict(x_test2) # Predicting the cured status using the fitted model\n",
    "mse = mean_squared_error(y_test2, y_pred)\n",
    "rmse = np.sqrt(mse)\n",
    "r2_score = r2_score(y_test2, y_pred)\n",
    "print(\"MSE:\", mse)\n",
    "print(\"RMSE:\", rmse)\n",
    "print(\"R^2:\", r2_score)"
   ]
  }
 ],
 "metadata": {
  "kernelspec": {
   "display_name": "Python 3 (ipykernel)",
   "language": "python",
   "name": "python3"
  },
  "language_info": {
   "codemirror_mode": {
    "name": "ipython",
    "version": 3
   },
   "file_extension": ".py",
   "mimetype": "text/x-python",
   "name": "python",
   "nbconvert_exporter": "python",
   "pygments_lexer": "ipython3",
   "version": "3.11.4"
  }
 },
 "nbformat": 4,
 "nbformat_minor": 5
}
